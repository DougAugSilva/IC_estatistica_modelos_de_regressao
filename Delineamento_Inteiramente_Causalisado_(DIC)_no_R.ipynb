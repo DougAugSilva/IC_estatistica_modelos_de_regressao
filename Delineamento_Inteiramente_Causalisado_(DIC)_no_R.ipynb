{
  "nbformat": 4,
  "nbformat_minor": 0,
  "metadata": {
    "colab": {
      "provenance": [],
      "authorship_tag": "ABX9TyOzk8Zoa1s0s1b3x8/7lEPZ",
      "include_colab_link": true
    },
    "kernelspec": {
      "name": "ir",
      "display_name": "R"
    },
    "language_info": {
      "name": "R"
    }
  },
  "cells": [
    {
      "cell_type": "markdown",
      "metadata": {
        "id": "view-in-github",
        "colab_type": "text"
      },
      "source": [
        "<a href=\"https://colab.research.google.com/github/DougAugSilva/IC_estatistica_modelos_de_regressao/blob/main/Delineamento_Inteiramente_Causalisado_(DIC)_no_R.ipynb\" target=\"_parent\"><img src=\"https://colab.research.google.com/assets/colab-badge.svg\" alt=\"Open In Colab\"/></a>"
      ]
    },
    {
      "cell_type": "markdown",
      "source": [
        "# Delineamento Inteiramente Causalisado (DIC) no R\n",
        "\n",
        "------------------------------------------------------------------------\n",
        "\n",
        "## Teoria\n",
        "\n",
        "### O que é o delineamneto inteiramente causalisado\n",
        "\n",
        "O delineamento inteiramente casualizado é o mais simples dos delineamentos experimentais utilizados pelos estatísticos. Sua principal característica é que as unidades experimentais (parceleas, indivíduos e etc) são designados aos tratamentos de forma completamente aleatória, como se fosse um sorteio.\n",
        "\n",
        "### Principais caracteristicas\n",
        "\n",
        "-   Por levar em consideração apenas os princípios da repetição e da casualização, são considerados os mais simples delineamentos experimentais.\n",
        "\n",
        "-   São instalados em situações de **homogeneidade**, por isso são muito usados em ambientes controlados, tais como casas de vegetação, laboratórios e etc.\n",
        "\n",
        "    \n",
        "| Tratamentos | Observações                  | Totais   | Médias              |\n",
        "|------------ |------------------------------|----------|---------------------|\n",
        "| 1           | $y_{11}, y_{12}, ..., y_{1b}$ | $y_{1*}$ | $\\overline{y_{1*}}$ |\n",
        "| 2           | $y_{21}, y_{22}, ..., y_{2b}$ | $y_{2*}$ | $\\overline{y_{2*}}$ |\n",
        "| ...         | ...                          | ...      | ...                 |\n",
        "| a           | $y_{a1}, y_{a2}, ..., y_{ab}$ | $y_{a*}$ | $\\overline{y_{a*}}$ |\n",
        "\n",
        "  O modelo estatístico para o delineamento inteiramente causalizado é:\\\n",
        "  $y_{ij} = \\mu + \\tau_i + \\varepsilon_{ij} \\text{ com } i = 1, .. ,a \\text{ e } j = 1, ..., b$\n",
        "\n",
        "  Sendo que:\n",
        "\n",
        "  -   $y_{ij}$ : é a observação da j-ésima repetição do i-ésimo tratamento.\n",
        "\n",
        "  -   $\\mu$ : é a média geral.\n",
        "\n",
        "  -   $\\tau_i$ : é o efeito do i-ésimo tratamento quando esta se desvia da media geral.\n",
        "\n",
        "  -   $\\varepsilon_{ij}$ : é o erro experimental aleatório j-ésima repetição do i-ésimo tratamento.\n",
        "\n",
        "### Vantagens\n",
        "\n",
        "-   Pode-se utilizar qualquer número de tratamentos e repetições, sendo que o número de repetições pode variar de um tratamento para outro (ensaio desbalanceado) sem dificultar as análises.\n",
        "\n",
        "-   O número de repetições depende apenas do número de unidades experimentais disponíveis.\n",
        "\n",
        "-   Apresenta maior número de graus de liberdade associado ao erro em relação a outros delineamentos.\n",
        "\n",
        "### Desvantagens\n",
        "\n",
        "-   Exige homogeneidade das condições experimentais (variação apenas do fator a ser comparado).\n",
        "\n",
        "-   Pode-se obter uma estimativa da **variância do erro experimental** bem alta, quando não utilizado corretamente, pois uma vez que não se considera o princípio do controle local, todas as variações, exceto **as devidas aos tratamentos**, são consideradas como variações ao acaso.\n",
        "\n",
        "### Comparando mais de duas médias\n",
        "\n",
        "Sabemos que para comparar se duas médias são estatisticamente iguais podemos realizar o teste t-student, porém para ao caso de duas ou mais médias, não podemos apenas aplicar o teste t em duas médias duas a duas distintas, além de ser computacionalmente eficiente, dado que a medida que adicionássemos mais tratamentos a ordem de comparações iria crescer de forma fatorial, fazer isso também seria estatisticamente errado.\n",
        "\n",
        "O procedimento correto neste caso de comparação de duas ou médias é aplicar a técnica da Análise de Variância (ANOVA). Este teste compara todas as médias dos tratamentos em um único teste e visa identificar a existência de ao menos uma diferença entre os tratamentos, mantendo o nível de significância $\\alpha$ do teste, diferente do caso em que aplicamos dois dois testes t.\n",
        "\n",
        "### Teoria da Análise de Variância ANOVA\n",
        "\n",
        "Quando se instala um experimento no delineamento inteiramente casualizado, o objetivo é, em geral, verificar se existe diferença significativa entre pelo menos duas médias de tratamento. Com isso as hipóteses são:\n",
        "\n",
        "-   **H0**: $\\mu_1 = \\mu_2 = ... = \\mu_a$\n",
        "\n",
        "-   **H1**: $\\mu_i \\neq \\mu_j$ para pelo menos duas médias de tartamentos diferentes entre si.\n",
        "\n",
        "O método ANOVA só é valido para testar essas hipóteses, se forem satisfeitas as seguintes condições:\n",
        "\n",
        "-   **aditividade**: Os efeitos devem se somar (não há interação).\n",
        "\n",
        "-   **independência**: Os erros $\\varepsilon_{ij}$ devem ser independentes.\n",
        "\n",
        "-   **normalidade**: Os erros $\\varepsilon_{ij}$ devem possuir uma distribuição normal.\n",
        "\n",
        "-   **homocedasticidade ou homogeneidade de variâncias**: Os erros $\\varepsilon_{ij}$ devem possuir uma variância comum $\\sigma^2$ .\n",
        "\n",
        "Para a verificação da normalidade dos erros, em geral, utilizam-se os testes de normalidade, tais como Lillieforts e Shapiro Wilk. Já para a homogeneidade das variâncias pode ser verificada por meio do teste de Bartlett, teste do F máximo e teste de Levene.\n",
        "\n",
        "Para verificarmos se a hipótese nula **H0** é aceita ou não, completa-se o seguinte *Quadro de Análise de Variância*:\n",
        "\n",
        "| Causas da Variação | Graus de Liberdade | Soma dos Quadrados (SQ) | Soma dos Quadrados Méwdios (QM) | F Calculado | F tabelado |\n",
        "|----|----|----|----|----|----|\n",
        "| Tratamentos | a - 1 | SQTrat | SQTrat/(a -1) | QMTrat/QMRes | Retirado da distribuição F |\n",
        "| Resíduos | a(b-1) | SQRes | SQRes/[a(b-1)] |  |  |\n",
        "\n",
        "------------------------------------------------------------------------\n",
        "\n",
        "## Exemplo de Aplicação : Caso Resistencia do Concreto\n",
        "\n",
        "Seja yij o valor da resitência do coincreto à compressão (psi) do j-ésimo corpo de prova que recebeu a i-ésima técnica de mistura (tratamento). Os valores das resitências podem ser na forma da Tablea:\n",
        "\n",
        "|              | Técnica A | Técnica B | Técnica C | Técnica D |           |\n",
        "|--------------|-----------|-----------|-----------|-----------|-----------|\n",
        "|              | 3129      | 3200      | 2800      | 2600      |           |\n",
        "|              | 3000      | 3300      | 2900      | 2700      |           |\n",
        "|              | 2865      | 2975      | 2985      | 2600      |           |\n",
        "|              | 2890      | 3150      | 3050      | 2765      | **Total** |\n",
        "| yi           | 11884     | 12625     | 11735     | 10665     | 46909     |\n",
        "| soma(yij)\\^2 | 35350966  | 39903125  | 34462725  | 28445225  | 138172041 |\n",
        "\n",
        ": dados coletados\n",
        "\n",
        "Ao nível de 5% de significância, conclua se asa técnicas de mistura afetam a resistência do concreto."
      ],
      "metadata": {
        "id": "UniDR1YtaByo"
      }
    },
    {
      "cell_type": "code",
      "execution_count": 1,
      "metadata": {
        "colab": {
          "base_uri": "https://localhost:8080/"
        },
        "id": "7XrNcSXyZpLx",
        "outputId": "bb9e35cc-7280-4575-fc71-a3dce04fc20f"
      },
      "outputs": [
        {
          "output_type": "stream",
          "name": "stderr",
          "text": [
            "Installing package into ‘/usr/local/lib/R/site-library’\n",
            "(as ‘lib’ is unspecified)\n",
            "\n",
            "Installing package into ‘/usr/local/lib/R/site-library’\n",
            "(as ‘lib’ is unspecified)\n",
            "\n",
            "also installing the dependencies ‘rbibutils’, ‘Deriv’, ‘microbenchmark’, ‘Rdpack’, ‘numDeriv’, ‘doBy’, ‘SparseM’, ‘MatrixModels’, ‘minqa’, ‘nloptr’, ‘reformulas’, ‘RcppEigen’, ‘carData’, ‘abind’, ‘Formula’, ‘pbkrtest’, ‘quantreg’, ‘lme4’, ‘corrplot’, ‘car’, ‘ggrepel’, ‘ggsci’, ‘cowplot’, ‘ggsignif’, ‘gridExtra’, ‘polynom’, ‘rstatix’, ‘ggpubr’, ‘plyr’, ‘tryCatchLog’\n",
            "\n",
            "\n",
            "Installing package into ‘/usr/local/lib/R/site-library’\n",
            "(as ‘lib’ is unspecified)\n",
            "\n",
            "Installing package into ‘/usr/local/lib/R/site-library’\n",
            "(as ‘lib’ is unspecified)\n",
            "\n"
          ]
        }
      ],
      "source": [
        "# Primeiro vamos instalar e carregar alguns pacotes\n",
        "\n",
        "install.packages('ggplot2')\n",
        "install.packages('dae')\n",
        "install.packages('MASS')\n",
        "install.packages('hnp')\n",
        "\n",
        "library(ggplot2)\n",
        "library(dae)\n",
        "library(MASS)\n",
        "library(hnp)"
      ]
    },
    {
      "cell_type": "markdown",
      "source": [
        "Depois de instalos os pacortes, vamos gerar uma sequencia de numeros de 1 a 16, para podermos associar os tratamentos aos respectivos dados coletados.\n"
      ],
      "metadata": {
        "id": "3wRJS_gSaf7R"
      }
    },
    {
      "cell_type": "code",
      "source": [
        "plots <- 1:16 #Gera numneros de 1 a 16\n",
        "\n",
        "trat <- factor(rep(c(\"A\",\"B\",\"C\",\"D\"), times=(c(4,4,4,4))))  #Cria os tratamentos e repete os fatores A, B, C, D 4 vezes cada\n",
        "\n",
        "resist <- c(3119, 3000, 2865, 2890, 3200, 3300, 2975, 3150, 2800, 2900, 2985, 3050, 2600, 2700, 2600, 2765)\n",
        "\n",
        "resist.dat <- data.frame(plots, resist, trat)\n",
        "\n",
        "resist.dat"
      ],
      "metadata": {
        "colab": {
          "base_uri": "https://localhost:8080/",
          "height": 600
        },
        "id": "g23UbvlXala6",
        "outputId": "d1dad621-38e4-43b9-ad78-5d1b4784c25f"
      },
      "execution_count": 2,
      "outputs": [
        {
          "output_type": "display_data",
          "data": {
            "text/html": [
              "<table class=\"dataframe\">\n",
              "<caption>A data.frame: 16 × 3</caption>\n",
              "<thead>\n",
              "\t<tr><th scope=col>plots</th><th scope=col>resist</th><th scope=col>trat</th></tr>\n",
              "\t<tr><th scope=col>&lt;int&gt;</th><th scope=col>&lt;dbl&gt;</th><th scope=col>&lt;fct&gt;</th></tr>\n",
              "</thead>\n",
              "<tbody>\n",
              "\t<tr><td> 1</td><td>3119</td><td>A</td></tr>\n",
              "\t<tr><td> 2</td><td>3000</td><td>A</td></tr>\n",
              "\t<tr><td> 3</td><td>2865</td><td>A</td></tr>\n",
              "\t<tr><td> 4</td><td>2890</td><td>A</td></tr>\n",
              "\t<tr><td> 5</td><td>3200</td><td>B</td></tr>\n",
              "\t<tr><td> 6</td><td>3300</td><td>B</td></tr>\n",
              "\t<tr><td> 7</td><td>2975</td><td>B</td></tr>\n",
              "\t<tr><td> 8</td><td>3150</td><td>B</td></tr>\n",
              "\t<tr><td> 9</td><td>2800</td><td>C</td></tr>\n",
              "\t<tr><td>10</td><td>2900</td><td>C</td></tr>\n",
              "\t<tr><td>11</td><td>2985</td><td>C</td></tr>\n",
              "\t<tr><td>12</td><td>3050</td><td>C</td></tr>\n",
              "\t<tr><td>13</td><td>2600</td><td>D</td></tr>\n",
              "\t<tr><td>14</td><td>2700</td><td>D</td></tr>\n",
              "\t<tr><td>15</td><td>2600</td><td>D</td></tr>\n",
              "\t<tr><td>16</td><td>2765</td><td>D</td></tr>\n",
              "</tbody>\n",
              "</table>\n"
            ],
            "text/markdown": "\nA data.frame: 16 × 3\n\n| plots &lt;int&gt; | resist &lt;dbl&gt; | trat &lt;fct&gt; |\n|---|---|---|\n|  1 | 3119 | A |\n|  2 | 3000 | A |\n|  3 | 2865 | A |\n|  4 | 2890 | A |\n|  5 | 3200 | B |\n|  6 | 3300 | B |\n|  7 | 2975 | B |\n|  8 | 3150 | B |\n|  9 | 2800 | C |\n| 10 | 2900 | C |\n| 11 | 2985 | C |\n| 12 | 3050 | C |\n| 13 | 2600 | D |\n| 14 | 2700 | D |\n| 15 | 2600 | D |\n| 16 | 2765 | D |\n\n",
            "text/latex": "A data.frame: 16 × 3\n\\begin{tabular}{lll}\n plots & resist & trat\\\\\n <int> & <dbl> & <fct>\\\\\n\\hline\n\t  1 & 3119 & A\\\\\n\t  2 & 3000 & A\\\\\n\t  3 & 2865 & A\\\\\n\t  4 & 2890 & A\\\\\n\t  5 & 3200 & B\\\\\n\t  6 & 3300 & B\\\\\n\t  7 & 2975 & B\\\\\n\t  8 & 3150 & B\\\\\n\t  9 & 2800 & C\\\\\n\t 10 & 2900 & C\\\\\n\t 11 & 2985 & C\\\\\n\t 12 & 3050 & C\\\\\n\t 13 & 2600 & D\\\\\n\t 14 & 2700 & D\\\\\n\t 15 & 2600 & D\\\\\n\t 16 & 2765 & D\\\\\n\\end{tabular}\n",
            "text/plain": [
              "   plots resist trat\n",
              "1   1    3119   A   \n",
              "2   2    3000   A   \n",
              "3   3    2865   A   \n",
              "4   4    2890   A   \n",
              "5   5    3200   B   \n",
              "6   6    3300   B   \n",
              "7   7    2975   B   \n",
              "8   8    3150   B   \n",
              "9   9    2800   C   \n",
              "10 10    2900   C   \n",
              "11 11    2985   C   \n",
              "12 12    3050   C   \n",
              "13 13    2600   D   \n",
              "14 14    2700   D   \n",
              "15 15    2600   D   \n",
              "16 16    2765   D   "
            ]
          },
          "metadata": {}
        }
      ]
    },
    {
      "cell_type": "markdown",
      "source": [
        "## Análise exploratória dos dados\n",
        "\n",
        "Agora na análise exploratória vamos calcular os seguintes fatores:\n",
        "\n",
        "-   A média dos tratamentos\n",
        "\n",
        "-   A variância de cada tratamento\n",
        "\n",
        "-   O desvio padrão de cada tratamento"
      ],
      "metadata": {
        "id": "W8rzPLzpao8O"
      }
    },
    {
      "cell_type": "code",
      "source": [
        "(media_tratamento = tapply(resist, trat, mean)) #media\n",
        "(varia_tratamento = tapply(resist, trat, var)) #variancia\n",
        "(descio_tratamento = tapply(resist, trat, sd)) #desvio padrao"
      ],
      "metadata": {
        "colab": {
          "base_uri": "https://localhost:8080/",
          "height": 69
        },
        "id": "3q5xl_VEasOf",
        "outputId": "cf9279a0-414a-4af0-d1ad-0aadf9f43d10"
      },
      "execution_count": 3,
      "outputs": [
        {
          "output_type": "display_data",
          "data": {
            "text/html": [
              "<style>\n",
              ".dl-inline {width: auto; margin:0; padding: 0}\n",
              ".dl-inline>dt, .dl-inline>dd {float: none; width: auto; display: inline-block}\n",
              ".dl-inline>dt::after {content: \":\\0020\"; padding-right: .5ex}\n",
              ".dl-inline>dt:not(:first-of-type) {padding-left: .5ex}\n",
              "</style><dl class=dl-inline><dt>A</dt><dd>2968.5</dd><dt>B</dt><dd>3156.25</dd><dt>C</dt><dd>2933.75</dd><dt>D</dt><dd>2666.25</dd></dl>\n"
            ],
            "text/markdown": "A\n:   2968.5B\n:   3156.25C\n:   2933.75D\n:   2666.25\n\n",
            "text/latex": "\\begin{description*}\n\\item[A] 2968.5\n\\item[B] 3156.25\n\\item[C] 2933.75\n\\item[D] 2666.25\n\\end{description*}\n",
            "text/plain": [
              "      A       B       C       D \n",
              "2968.50 3156.25 2933.75 2666.25 "
            ]
          },
          "metadata": {}
        },
        {
          "output_type": "display_data",
          "data": {
            "text/html": [
              "<style>\n",
              ".dl-inline {width: auto; margin:0; padding: 0}\n",
              ".dl-inline>dt, .dl-inline>dd {float: none; width: auto; display: inline-block}\n",
              ".dl-inline>dt::after {content: \":\\0020\"; padding-right: .5ex}\n",
              ".dl-inline>dt:not(:first-of-type) {padding-left: .5ex}\n",
              "</style><dl class=dl-inline><dt>A</dt><dd>13505.6666666667</dd><dt>B</dt><dd>18489.5833333333</dd><dt>C</dt><dd>11722.9166666667</dd><dt>D</dt><dd>6556.25</dd></dl>\n"
            ],
            "text/markdown": "A\n:   13505.6666666667B\n:   18489.5833333333C\n:   11722.9166666667D\n:   6556.25\n\n",
            "text/latex": "\\begin{description*}\n\\item[A] 13505.6666666667\n\\item[B] 18489.5833333333\n\\item[C] 11722.9166666667\n\\item[D] 6556.25\n\\end{description*}\n",
            "text/plain": [
              "       A        B        C        D \n",
              "13505.67 18489.58 11722.92  6556.25 "
            ]
          },
          "metadata": {}
        },
        {
          "output_type": "display_data",
          "data": {
            "text/html": [
              "<style>\n",
              ".dl-inline {width: auto; margin:0; padding: 0}\n",
              ".dl-inline>dt, .dl-inline>dd {float: none; width: auto; display: inline-block}\n",
              ".dl-inline>dt::after {content: \":\\0020\"; padding-right: .5ex}\n",
              ".dl-inline>dt:not(:first-of-type) {padding-left: .5ex}\n",
              "</style><dl class=dl-inline><dt>A</dt><dd>116.213883278491</dd><dt>B</dt><dd>135.976407267339</dd><dt>C</dt><dd>108.272418771664</dd><dt>D</dt><dd>80.9706737035082</dd></dl>\n"
            ],
            "text/markdown": "A\n:   116.213883278491B\n:   135.976407267339C\n:   108.272418771664D\n:   80.9706737035082\n\n",
            "text/latex": "\\begin{description*}\n\\item[A] 116.213883278491\n\\item[B] 135.976407267339\n\\item[C] 108.272418771664\n\\item[D] 80.9706737035082\n\\end{description*}\n",
            "text/plain": [
              "        A         B         C         D \n",
              "116.21388 135.97641 108.27242  80.97067 "
            ]
          },
          "metadata": {}
        }
      ]
    },
    {
      "cell_type": "markdown",
      "source": [
        "### Boxplots dos dados"
      ],
      "metadata": {
        "id": "IGUH1r_ha-Ad"
      }
    },
    {
      "cell_type": "code",
      "source": [
        "boxplot(split(resist, trat), xlab = \"Tratamentos\", ylab = \"Resistência\", col = \"lightblue\")\n",
        "points(media_tratamento, col = \"red\", pch = \"*\", cex = 1.5)"
      ],
      "metadata": {
        "colab": {
          "base_uri": "https://localhost:8080/",
          "height": 437
        },
        "id": "Iw0X4Zi9a4tY",
        "outputId": "4e2eb1a2-be9b-4f46-ac1a-c5235e7dbfd6"
      },
      "execution_count": 4,
      "outputs": [
        {
          "output_type": "display_data",
          "data": {
            "text/plain": [
              "plot without title"
            ],
            "image/png": "[encoded data removed]"
          },
          "metadata": {
            "image/png": {
              "width": 420,
              "height": 420
            }
          }
        }
      ]
    },
    {
      "cell_type": "markdown",
      "source": [
        "### Teste da homogenidade das vcariâncias\n",
        "\n",
        "Podemos agora realizar um teste Bartlett de homogeneidade das variâncias, por meio da formulção das seguintes hipoteses:\n",
        "\n",
        "-   **H0**: As variâncias são homogeneas\n",
        "\n",
        "-   **H1**: As variâncias não são homogeneas"
      ],
      "metadata": {
        "id": "TcTLIELwbEjs"
      }
    },
    {
      "cell_type": "code",
      "source": [
        "bartlett.test(resist ~ trat)"
      ],
      "metadata": {
        "colab": {
          "base_uri": "https://localhost:8080/",
          "height": 104
        },
        "id": "YPWyDHGtaull",
        "outputId": "3e53461c-a258-4d2f-8c37-7cec51239a09"
      },
      "execution_count": 5,
      "outputs": [
        {
          "output_type": "display_data",
          "data": {
            "text/plain": [
              "\n",
              "\tBartlett test of homogeneity of variances\n",
              "\n",
              "data:  resist by trat\n",
              "Bartlett's K-squared = 0.69153, df = 3, p-value = 0.8752\n"
            ]
          },
          "metadata": {}
        }
      ]
    },
    {
      "cell_type": "markdown",
      "source": [
        "O que nos interessa nesse teste é o p-valor, que neste caso é de 0,81, dado que definimos um nivel se significancia de 5% = 0,05, dado qualquer p-valor maior que 0,05 podemos *rejeitar H0*, logo as variâncias *são homogeneas*.\n",
        "\n",
        "### Modelo estatístico ANOVA\n",
        "\n",
        "Dado que as as variâncias são homogeneas, podemos realizar o teste ANOVA. O primeiro passo é a criação do modelo estatistico para a execução do teste:"
      ],
      "metadata": {
        "id": "IyEZ9gDlbJYS"
      }
    },
    {
      "cell_type": "code",
      "source": [
        "mod <- aov(resist ~ trat, data = resist.dat)  #modelo para o ANOVA\n",
        "anova(mod)  #retorna a tabela da ANOVA"
      ],
      "metadata": {
        "colab": {
          "base_uri": "https://localhost:8080/",
          "height": 161
        },
        "id": "nKyhxOz2bM40",
        "outputId": "e7dea739-ba50-476b-f5b6-ec5bd177d209"
      },
      "execution_count": 6,
      "outputs": [
        {
          "output_type": "display_data",
          "data": {
            "text/html": [
              "<table class=\"dataframe\">\n",
              "<caption>A anova: 2 × 5</caption>\n",
              "<thead>\n",
              "\t<tr><th></th><th scope=col>Df</th><th scope=col>Sum Sq</th><th scope=col>Mean Sq</th><th scope=col>F value</th><th scope=col>Pr(&gt;F)</th></tr>\n",
              "\t<tr><th></th><th scope=col>&lt;int&gt;</th><th scope=col>&lt;dbl&gt;</th><th scope=col>&lt;dbl&gt;</th><th scope=col>&lt;dbl&gt;</th><th scope=col>&lt;dbl&gt;</th></tr>\n",
              "</thead>\n",
              "<tbody>\n",
              "\t<tr><th scope=row>trat</th><td> 3</td><td>488975.2</td><td>162991.7</td><td>12.96816</td><td>0.0004494905</td></tr>\n",
              "\t<tr><th scope=row>Residuals</th><td>12</td><td>150823.2</td><td> 12568.6</td><td>      NA</td><td>          NA</td></tr>\n",
              "</tbody>\n",
              "</table>\n"
            ],
            "text/markdown": "\nA anova: 2 × 5\n\n| <!--/--> | Df &lt;int&gt; | Sum Sq &lt;dbl&gt; | Mean Sq &lt;dbl&gt; | F value &lt;dbl&gt; | Pr(&gt;F) &lt;dbl&gt; |\n|---|---|---|---|---|---|\n| trat |  3 | 488975.2 | 162991.7 | 12.96816 | 0.0004494905 |\n| Residuals | 12 | 150823.2 |  12568.6 |       NA |           NA |\n\n",
            "text/latex": "A anova: 2 × 5\n\\begin{tabular}{r|lllll}\n  & Df & Sum Sq & Mean Sq & F value & Pr(>F)\\\\\n  & <int> & <dbl> & <dbl> & <dbl> & <dbl>\\\\\n\\hline\n\ttrat &  3 & 488975.2 & 162991.7 & 12.96816 & 0.0004494905\\\\\n\tResiduals & 12 & 150823.2 &  12568.6 &       NA &           NA\\\\\n\\end{tabular}\n",
            "text/plain": [
              "          Df Sum Sq   Mean Sq  F value  Pr(>F)      \n",
              "trat       3 488975.2 162991.7 12.96816 0.0004494905\n",
              "Residuals 12 150823.2  12568.6       NA           NA"
            ]
          },
          "metadata": {}
        }
      ]
    },
    {
      "cell_type": "markdown",
      "source": [
        "Lembrando que estamops verificando o seguinte teste de hipótese:\n",
        "\n",
        "-   **H0**: media do A = media do B = ... = media do D.\n",
        "\n",
        "-   **H1**: media do [ i ] != media [ j ], para pelo menos dois i != j, com i,j = A, ... , D.\n",
        "\n",
        "Dado este resultado da análise de variância, onde o p-valor é muito menor que 5% = 0,05 (0,05 \\>\\> 0,00044), podemos rejeitar H0 ao nivel se significancia de 5%, e com isso existe pelo menos duas médias de tratamento que diferem entre si.\n",
        "\n",
        "### Verificando a Independência do Erros\n",
        "\n",
        "Para o modelo fazer sentido, é necessário que os residuos sigam uma distribuição normal. Primeiro vemos os valores dos residuos."
      ],
      "metadata": {
        "id": "s6uaM4PDbObP"
      }
    },
    {
      "cell_type": "code",
      "source": [
        "res = residuals(mod)\n",
        "res"
      ],
      "metadata": {
        "colab": {
          "base_uri": "https://localhost:8080/",
          "height": 34
        },
        "id": "AFcnueUibR50",
        "outputId": "7c2f9dd9-8791-47e7-fe03-fa29824af08d"
      },
      "execution_count": 7,
      "outputs": [
        {
          "output_type": "display_data",
          "data": {
            "text/html": [
              "<style>\n",
              ".dl-inline {width: auto; margin:0; padding: 0}\n",
              ".dl-inline>dt, .dl-inline>dd {float: none; width: auto; display: inline-block}\n",
              ".dl-inline>dt::after {content: \":\\0020\"; padding-right: .5ex}\n",
              ".dl-inline>dt:not(:first-of-type) {padding-left: .5ex}\n",
              "</style><dl class=dl-inline><dt>1</dt><dd>150.5</dd><dt>2</dt><dd>31.5</dd><dt>3</dt><dd>-103.5</dd><dt>4</dt><dd>-78.5</dd><dt>5</dt><dd>43.75</dd><dt>6</dt><dd>143.75</dd><dt>7</dt><dd>-181.25</dd><dt>8</dt><dd>-6.25</dd><dt>9</dt><dd>-133.75</dd><dt>10</dt><dd>-33.75</dd><dt>11</dt><dd>51.25</dd><dt>12</dt><dd>116.25</dd><dt>13</dt><dd>-66.25</dd><dt>14</dt><dd>33.75</dd><dt>15</dt><dd>-66.25</dd><dt>16</dt><dd>98.75</dd></dl>\n"
            ],
            "text/markdown": "1\n:   150.52\n:   31.53\n:   -103.54\n:   -78.55\n:   43.756\n:   143.757\n:   -181.258\n:   -6.259\n:   -133.7510\n:   -33.7511\n:   51.2512\n:   116.2513\n:   -66.2514\n:   33.7515\n:   -66.2516\n:   98.75\n\n",
            "text/latex": "\\begin{description*}\n\\item[1] 150.5\n\\item[2] 31.5\n\\item[3] -103.5\n\\item[4] -78.5\n\\item[5] 43.75\n\\item[6] 143.75\n\\item[7] -181.25\n\\item[8] -6.25\n\\item[9] -133.75\n\\item[10] -33.75\n\\item[11] 51.25\n\\item[12] 116.25\n\\item[13] -66.25\n\\item[14] 33.75\n\\item[15] -66.25\n\\item[16] 98.75\n\\end{description*}\n",
            "text/plain": [
              "      1       2       3       4       5       6       7       8       9      10 \n",
              " 150.50   31.50 -103.50  -78.50   43.75  143.75 -181.25   -6.25 -133.75  -33.75 \n",
              "     11      12      13      14      15      16 \n",
              "  51.25  116.25  -66.25   33.75  -66.25   98.75 "
            ]
          },
          "metadata": {}
        }
      ]
    },
    {
      "cell_type": "markdown",
      "source": [
        "Depois plotamos estes valores no seguinte gráfico para averiguamos a independencia dos residuos."
      ],
      "metadata": {
        "id": "NnMDnj_KbTUu"
      }
    },
    {
      "cell_type": "code",
      "source": [
        "plot(res, pch = 19, ylab = \"Resíduos\", col = \"blue\")\n",
        "abline(h = 0, col = \"red\")"
      ],
      "metadata": {
        "colab": {
          "base_uri": "https://localhost:8080/",
          "height": 437
        },
        "id": "Z0-jIw5ObU2x",
        "outputId": "d7e2cca3-1e22-427a-b1f7-b1676a7a2d65"
      },
      "execution_count": 8,
      "outputs": [
        {
          "output_type": "display_data",
          "data": {
            "text/plain": [
              "plot without title"
            ],
            "image/png": "[encoded data removed]"
          },
          "metadata": {
            "image/png": {
              "width": 420,
              "height": 420
            }
          }
        }
      ]
    },
    {
      "cell_type": "markdown",
      "source": [
        "### Teste de Normalidade dos Resíduos\n",
        "\n",
        "Para isso faremos o seguinte teste de hipótese, utilizando o teste de normalidade de Shapiro Wilk.\n",
        "\n",
        "-   **H0**: Os resíduos são normais\n",
        "\n",
        "-   **H1**: Os resíduos não são normais"
      ],
      "metadata": {
        "id": "E7FPjS0ubWiN"
      }
    },
    {
      "cell_type": "code",
      "source": [
        "shapiro.test(res)"
      ],
      "metadata": {
        "colab": {
          "base_uri": "https://localhost:8080/",
          "height": 104
        },
        "id": "ma9EaYm7bYPA",
        "outputId": "5a622e68-ebf8-49f7-dc13-eb3fb98e244f"
      },
      "execution_count": 9,
      "outputs": [
        {
          "output_type": "display_data",
          "data": {
            "text/plain": [
              "\n",
              "\tShapiro-Wilk normality test\n",
              "\n",
              "data:  res\n",
              "W = 0.96558, p-value = 0.7629\n"
            ]
          },
          "metadata": {}
        }
      ]
    },
    {
      "cell_type": "markdown",
      "source": [
        "Dado um nível de significancia de 5% = 0,05, como temos o p-valor igual a 0,76 \\>\\> 0,05, não rejeitamos H0, e com isso concluimos que os residuos seguem uma distribuição normal.\n",
        "\n",
        "### Gráfico do envelope simulado\n",
        "\n",
        "Tentamos simular os residos por meio de uma distribuição normal, para assim verificarmos a adequabilidade do modelo que estamos trabalhando. As vezes o modelo pode não ser adequado para o tipo de delineamento que estamos utilizando."
      ],
      "metadata": {
        "id": "EL-eZ_oVbbs1"
      }
    },
    {
      "cell_type": "code",
      "source": [
        "hnp(mod, print.on = T, pch = 19)"
      ],
      "metadata": {
        "colab": {
          "base_uri": "https://localhost:8080/",
          "height": 454
        },
        "id": "o_7RqVkbbcl1",
        "outputId": "f2fbc622-aafc-47e8-aafe-a5c86ef09b9d"
      },
      "execution_count": 10,
      "outputs": [
        {
          "output_type": "stream",
          "name": "stdout",
          "text": [
            "Gaussian model (aov object) \n"
          ]
        },
        {
          "output_type": "display_data",
          "data": {
            "text/plain": [
              "Plot with title “”"
            ],
            "image/png": "[encoded data removed]"
          },
          "metadata": {
            "image/png": {
              "width": 420,
              "height": 420
            }
          }
        }
      ]
    },
    {
      "cell_type": "markdown",
      "source": [
        "dado que não temos nenhum ponto fora do envelope simulado, o modelo é adequado para o tipo de delineamento.\n",
        "\n",
        "### Teste de Comparações Múltiplas : Teste de Tukey\n",
        "\n",
        "A partir do momento que pelo resultado do teste da ANOVA, temos que pelo menos duas médias diferementre si, caso queiramos saber também quais destas diferem, podemos realizar o *teste de comparações multiplas de Tukey.*\n",
        "\n",
        "-   O teste de Tukey serve para testar qualquer diferença entre duas médias.\n",
        "\n",
        "-   O teste é exato qyando duas médias de tratamento têm o mesmo número de repetiçoes.\n",
        "\n",
        "-   Por ser um teste rigoroso, geralmente, o teste de Tukey é aplicado apenas no nível de 5% de significância."
      ],
      "metadata": {
        "id": "PxYsRqJEbgTV"
      }
    },
    {
      "cell_type": "code",
      "source": [
        "teste_tukey <- TukeyHSD(mod)\n",
        "print(teste_tukey)\n",
        "plot(teste_tukey, col = 'blue')"
      ],
      "metadata": {
        "colab": {
          "base_uri": "https://localhost:8080/",
          "height": 680
        },
        "id": "eRa_zXg2bjzg",
        "outputId": "1869ede7-019e-4cc6-dd61-a6236a072355"
      },
      "execution_count": 11,
      "outputs": [
        {
          "output_type": "stream",
          "name": "stdout",
          "text": [
            "  Tukey multiple comparisons of means\n",
            "    95% family-wise confidence level\n",
            "\n",
            "Fit: aov(formula = resist ~ trat, data = resist.dat)\n",
            "\n",
            "$trat\n",
            "       diff        lwr        upr     p adj\n",
            "B-A  187.75  -47.60545  423.10545 0.1367814\n",
            "C-A  -34.75 -270.10545  200.60545 0.9706206\n",
            "D-A -302.25 -537.60545  -66.89455 0.0114477\n",
            "C-B -222.50 -457.85545   12.85545 0.0660454\n",
            "D-B -490.00 -725.35545 -254.64455 0.0002389\n",
            "D-C -267.50 -502.85545  -32.14455 0.0246704\n",
            "\n"
          ]
        },
        {
          "output_type": "display_data",
          "data": {
            "text/plain": [
              "Plot with title “95% family-wise confidence level\n",
              "”"
            ],
            "image/png": "[encoded data removed]"
          },
          "metadata": {
            "image/png": {
              "width": 420,
              "height": 420
            }
          }
        }
      ]
    },
    {
      "cell_type": "markdown",
      "source": [
        "O gráfico acima mostra uma comparação entre os intervalos de confiança para as médias, geradas pelo teste de Tukey, note que quando o zero (linha tracejada vertical) pertence ao intervalo, temos que as médias são **estatisticamente iguais**, isso ocorre para as médias **B com A**, **C e A**, e **C com B**."
      ],
      "metadata": {
        "id": "WjhEBbpIblwY"
      }
    }
  ]
}