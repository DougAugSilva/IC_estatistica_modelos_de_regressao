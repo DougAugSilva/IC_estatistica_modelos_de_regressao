{
  "nbformat": 4,
  "nbformat_minor": 0,
  "metadata": {
    "colab": {
      "provenance": [],
      "authorship_tag": "ABX9TyNtkg96i8xrngqLiOGGcHzJ",
      "include_colab_link": true
    },
    "kernelspec": {
      "name": "ir",
      "display_name": "R"
    },
    "language_info": {
      "name": "R"
    }
  },
  "cells": [
    {
      "cell_type": "markdown",
      "metadata": {
        "id": "view-in-github",
        "colab_type": "text"
      },
      "source": [
        "<a href=\"https://colab.research.google.com/github/DougAugSilva/IC_estatistica_modelos_de_regressao/blob/main/Regress%C3%A3o_Linear_Multipla.ipynb\" target=\"_parent\"><img src=\"https://colab.research.google.com/assets/colab-badge.svg\" alt=\"Open In Colab\"/></a>"
      ]
    },
    {
      "cell_type": "markdown",
      "source": [
        "# Regressão Linear Múltipla\n",
        "\n",
        "------------------------------------------------------------------------\n",
        "\n",
        "## Modelo Estatístico - Notação Matricial\n",
        "\n",
        "Tem-se uma regressão linear múltipla quando se admite que a variável resposta $Y$ é a função de duas ou mais variáveis explicativas (regressoras). O modelo estatístico de uma regressão linear múltipla com $k$ variáveis regressoras $(X_1, X_2, ..., X_k)$ é:\n",
        "\n",
        "$Y_i = \\beta_0 + \\beta_1X_{i1} + \\beta_2X_{i2} + ... + \\beta_kX_{ik} + \\varepsilon_i$\n",
        "\n",
        "ou na forma parametrizada com variéveis centradas:\n",
        "\n",
        "$Y_i = \\alpha + \\beta_1x_{i1} + \\beta_2x_{i2} + ... + \\beta_kx_{ik} + \\varepsilon_i$\n",
        "\n",
        "Em notação matricial, o modelo de regressão linear múltipla fica:\n",
        "\n",
        "$Y = X\\theta + \\varepsilon = \\mu + \\varepsilon$\n",
        "\n",
        "em que $Y$ é o vetor de dimensões $n \\times 1$ da variével aleatória Y, $X$ é a matriz de dimensões $n \\times p$, temos $\\theta$ como sendo o vertor de dimensões $p \\times 1$ , de parâmetros desconhecidos, $\\varepsilon$ é o vetor de dimensões $n \\times 1$ das variáveis aleatórias não observáveis.\n",
        "\n",
        "De forma semelhante a regressão linear simples, têm-se as suposições\n",
        "\n",
        "1.  A variável resposta $Y$ é função linear das variáveis explicativas $X_j$ para $j = 1, 2, ..., k$\n",
        "2.  As variáveis explicativas $X_j$ são fixas\n",
        "3.  $E(\\varepsilon_i) = 0$ , ou seja, $E(\\varepsilon) = \\textbf{0}$, sendo $\\textbf{0}$ o vetor nulo de dimensões $n \\times 1$\n",
        "4.  Os erros são *homocedásticos*, isto é, $Var(\\varepsilon_i) = E(\\varepsilon^2_i) = \\sigma^2$\n",
        "5.  Os erros são *independentes*, isto é, $Cov(\\varepsilon_1, \\varepsilon_j) = 0$ se $i \\neq j$\n",
        "6.  Os erros têm distribuição normal\n",
        "\n",
        "**OBS:** A suposição da normalidade dos erros se dás necessária para a aelabioração de testes de hipóteses e obtenção de intervalos de confiança.\n",
        "\n",
        "## Estimação dos parâmetros - Método dos mínimos quadrados\n",
        "\n",
        "Podemos calcular a soma dos quadrados dos desvios $L$ , sendo esta dada pela formula:\n",
        "\n",
        "$$\n",
        "L = \\sum^{n}_{i  =1} \\varepsilon^2_i = (Y - X\\theta)^T(Y-X\\theta)\n",
        "$$\n",
        "\n",
        "O Estimador por minimos quadrados será $\\hat{\\theta}$ , sendo este solução para $\\theta$ nas equações $$\\frac{\\partial L}{\\partial \\theta} = 0$$\n",
        "\n",
        "Utilizando propriedades de matrizes podemos concluir que:\n",
        "\n",
        "$X^TX\\hat{\\theta} = X^Ty \\Rightarrow [X^TX]\\hat{\\theta} = X^Ty \\Rightarrow \\hat{\\theta} = (X^TX)^{-1}X^TY$\n",
        "\n",
        "Resolvendo assim a última igualdade, temos os parametros para o modelo que minimiozam a função soma dos desvios $L$.\n",
        "\n",
        "### Exemplo - Satisfação de Pacienrtes em um Hospital\n",
        "\n",
        "Primeiro vamos importar o conjunto de dados para o calculo do modelo de regressão, este conjunto de dados é sobre o nivel de satisfaçção de visistantes a um dado hospital, com base em alguns parametros como ansiedade e idade do paciente por exemplo."
      ],
      "metadata": {
        "id": "-K65Z8qAvJwV"
      }
    },
    {
      "cell_type": "code",
      "execution_count": 2,
      "metadata": {
        "colab": {
          "base_uri": "https://localhost:8080/",
          "height": 882
        },
        "id": "qN_gfl0XvIP6",
        "outputId": "57d28bb2-4a50-4506-e9f9-57b2f8d4a110"
      },
      "outputs": [
        {
          "output_type": "display_data",
          "data": {
            "text/plain": [
              "   Age Severity Surg-Med Anxiety Satisfaction\n",
              "1  55  50       0        2.1      68         \n",
              "2  46  24       1        2.8      77         \n",
              "3  30  46       1        3.3      96         \n",
              "4  35  48       1        4.5      80         \n",
              "5  59  58       0        2.0      43         \n",
              "6  61  60       0        5.1      44         \n",
              "7  74  65       1        5.5      26         \n",
              "8  38  42       1        3.2      88         \n",
              "9  27  42       0        3.1      75         \n",
              "10 51  50       1        2.4      57         \n",
              "11 53  38       1        2.2      56         \n",
              "12 41  30       0        2.1      88         \n",
              "13 37  31       0        1.9      88         \n",
              "14 24  34       0        3.1     102         \n",
              "15 42  30       0        3.0      88         \n",
              "16 50  48       1        4.2      70         \n",
              "17 58  61       1        4.6      52         \n",
              "18 60  71       1        5.3      43         \n",
              "19 62  62       0        7.2      46         \n",
              "20 68  38       0        7.8      56         \n",
              "21 70  41       1        7.0      59         \n",
              "22 79  66       1        6.2      26         \n",
              "23 63  31       1        4.1      52         \n",
              "24 39  42       0        3.5      83         \n",
              "25 49  40       1        2.1      75         "
            ],
            "text/html": [
              "<table class=\"dataframe\">\n",
              "<caption>A tibble: 25 × 5</caption>\n",
              "<thead>\n",
              "\t<tr><th scope=col>Age</th><th scope=col>Severity</th><th scope=col>Surg-Med</th><th scope=col>Anxiety</th><th scope=col>Satisfaction</th></tr>\n",
              "\t<tr><th scope=col>&lt;dbl&gt;</th><th scope=col>&lt;dbl&gt;</th><th scope=col>&lt;dbl&gt;</th><th scope=col>&lt;dbl&gt;</th><th scope=col>&lt;dbl&gt;</th></tr>\n",
              "</thead>\n",
              "<tbody>\n",
              "\t<tr><td>55</td><td>50</td><td>0</td><td>2.1</td><td> 68</td></tr>\n",
              "\t<tr><td>46</td><td>24</td><td>1</td><td>2.8</td><td> 77</td></tr>\n",
              "\t<tr><td>30</td><td>46</td><td>1</td><td>3.3</td><td> 96</td></tr>\n",
              "\t<tr><td>35</td><td>48</td><td>1</td><td>4.5</td><td> 80</td></tr>\n",
              "\t<tr><td>59</td><td>58</td><td>0</td><td>2.0</td><td> 43</td></tr>\n",
              "\t<tr><td>61</td><td>60</td><td>0</td><td>5.1</td><td> 44</td></tr>\n",
              "\t<tr><td>74</td><td>65</td><td>1</td><td>5.5</td><td> 26</td></tr>\n",
              "\t<tr><td>38</td><td>42</td><td>1</td><td>3.2</td><td> 88</td></tr>\n",
              "\t<tr><td>27</td><td>42</td><td>0</td><td>3.1</td><td> 75</td></tr>\n",
              "\t<tr><td>51</td><td>50</td><td>1</td><td>2.4</td><td> 57</td></tr>\n",
              "\t<tr><td>53</td><td>38</td><td>1</td><td>2.2</td><td> 56</td></tr>\n",
              "\t<tr><td>41</td><td>30</td><td>0</td><td>2.1</td><td> 88</td></tr>\n",
              "\t<tr><td>37</td><td>31</td><td>0</td><td>1.9</td><td> 88</td></tr>\n",
              "\t<tr><td>24</td><td>34</td><td>0</td><td>3.1</td><td>102</td></tr>\n",
              "\t<tr><td>42</td><td>30</td><td>0</td><td>3.0</td><td> 88</td></tr>\n",
              "\t<tr><td>50</td><td>48</td><td>1</td><td>4.2</td><td> 70</td></tr>\n",
              "\t<tr><td>58</td><td>61</td><td>1</td><td>4.6</td><td> 52</td></tr>\n",
              "\t<tr><td>60</td><td>71</td><td>1</td><td>5.3</td><td> 43</td></tr>\n",
              "\t<tr><td>62</td><td>62</td><td>0</td><td>7.2</td><td> 46</td></tr>\n",
              "\t<tr><td>68</td><td>38</td><td>0</td><td>7.8</td><td> 56</td></tr>\n",
              "\t<tr><td>70</td><td>41</td><td>1</td><td>7.0</td><td> 59</td></tr>\n",
              "\t<tr><td>79</td><td>66</td><td>1</td><td>6.2</td><td> 26</td></tr>\n",
              "\t<tr><td>63</td><td>31</td><td>1</td><td>4.1</td><td> 52</td></tr>\n",
              "\t<tr><td>39</td><td>42</td><td>0</td><td>3.5</td><td> 83</td></tr>\n",
              "\t<tr><td>49</td><td>40</td><td>1</td><td>2.1</td><td> 75</td></tr>\n",
              "</tbody>\n",
              "</table>\n"
            ],
            "text/markdown": "\nA tibble: 25 × 5\n\n| Age &lt;dbl&gt; | Severity &lt;dbl&gt; | Surg-Med &lt;dbl&gt; | Anxiety &lt;dbl&gt; | Satisfaction &lt;dbl&gt; |\n|---|---|---|---|---|\n| 55 | 50 | 0 | 2.1 |  68 |\n| 46 | 24 | 1 | 2.8 |  77 |\n| 30 | 46 | 1 | 3.3 |  96 |\n| 35 | 48 | 1 | 4.5 |  80 |\n| 59 | 58 | 0 | 2.0 |  43 |\n| 61 | 60 | 0 | 5.1 |  44 |\n| 74 | 65 | 1 | 5.5 |  26 |\n| 38 | 42 | 1 | 3.2 |  88 |\n| 27 | 42 | 0 | 3.1 |  75 |\n| 51 | 50 | 1 | 2.4 |  57 |\n| 53 | 38 | 1 | 2.2 |  56 |\n| 41 | 30 | 0 | 2.1 |  88 |\n| 37 | 31 | 0 | 1.9 |  88 |\n| 24 | 34 | 0 | 3.1 | 102 |\n| 42 | 30 | 0 | 3.0 |  88 |\n| 50 | 48 | 1 | 4.2 |  70 |\n| 58 | 61 | 1 | 4.6 |  52 |\n| 60 | 71 | 1 | 5.3 |  43 |\n| 62 | 62 | 0 | 7.2 |  46 |\n| 68 | 38 | 0 | 7.8 |  56 |\n| 70 | 41 | 1 | 7.0 |  59 |\n| 79 | 66 | 1 | 6.2 |  26 |\n| 63 | 31 | 1 | 4.1 |  52 |\n| 39 | 42 | 0 | 3.5 |  83 |\n| 49 | 40 | 1 | 2.1 |  75 |\n\n",
            "text/latex": "A tibble: 25 × 5\n\\begin{tabular}{lllll}\n Age & Severity & Surg-Med & Anxiety & Satisfaction\\\\\n <dbl> & <dbl> & <dbl> & <dbl> & <dbl>\\\\\n\\hline\n\t 55 & 50 & 0 & 2.1 &  68\\\\\n\t 46 & 24 & 1 & 2.8 &  77\\\\\n\t 30 & 46 & 1 & 3.3 &  96\\\\\n\t 35 & 48 & 1 & 4.5 &  80\\\\\n\t 59 & 58 & 0 & 2.0 &  43\\\\\n\t 61 & 60 & 0 & 5.1 &  44\\\\\n\t 74 & 65 & 1 & 5.5 &  26\\\\\n\t 38 & 42 & 1 & 3.2 &  88\\\\\n\t 27 & 42 & 0 & 3.1 &  75\\\\\n\t 51 & 50 & 1 & 2.4 &  57\\\\\n\t 53 & 38 & 1 & 2.2 &  56\\\\\n\t 41 & 30 & 0 & 2.1 &  88\\\\\n\t 37 & 31 & 0 & 1.9 &  88\\\\\n\t 24 & 34 & 0 & 3.1 & 102\\\\\n\t 42 & 30 & 0 & 3.0 &  88\\\\\n\t 50 & 48 & 1 & 4.2 &  70\\\\\n\t 58 & 61 & 1 & 4.6 &  52\\\\\n\t 60 & 71 & 1 & 5.3 &  43\\\\\n\t 62 & 62 & 0 & 7.2 &  46\\\\\n\t 68 & 38 & 0 & 7.8 &  56\\\\\n\t 70 & 41 & 1 & 7.0 &  59\\\\\n\t 79 & 66 & 1 & 6.2 &  26\\\\\n\t 63 & 31 & 1 & 4.1 &  52\\\\\n\t 39 & 42 & 0 & 3.5 &  83\\\\\n\t 49 & 40 & 1 & 2.1 &  75\\\\\n\\end{tabular}\n"
          },
          "metadata": {}
        }
      ],
      "source": [
        "library(readxl)\n",
        "exemplo_dados_reg <- read_excel(\"exemplo_dados_reg.xlsx\")\n",
        "View(exemplo_dados_reg)"
      ]
    },
    {
      "cell_type": "markdown",
      "source": [
        "Neste exemplo a variavel $Y$ será os valores de satisfação dos pacientes **Satisfaction**, sendo que vamos verificar o quando os parametros $X_1$ **Age**, $X_2$ **Saverti**, $X_3$ **Surg-Med** e $X_4$ **Anxiety** explicam sobre $Y$ .\n",
        "\n",
        "Feito isso, vamos calcular a matrix $X$ inserindo uma linha extra somente com valores 1's no lugar da primeira linha, aumentando assim em uma linha a matriz com os nossos dados, feito isso será calculada $X^T$ ."
      ],
      "metadata": {
        "id": "-x9gnHoQzQg-"
      }
    },
    {
      "cell_type": "code",
      "source": [
        "X <- matrix(1, nrow = 25, ncol = 5)\n",
        "M <- exemplo_dados_reg\n",
        "N <- as.matrix(M)\n",
        "\n",
        "for (j in 1:25){\n",
        "  for (k in rev(1:4)){\n",
        "    X[j, k+1] = N[j, k]\n",
        "  }\n",
        "}\n",
        "\n",
        "X"
      ],
      "metadata": {
        "colab": {
          "base_uri": "https://localhost:8080/",
          "height": 836
        },
        "id": "Hff-4sbAzSrJ",
        "outputId": "3ec0dd26-3ade-4d7f-a897-ea8111d697d7"
      },
      "execution_count": 3,
      "outputs": [
        {
          "output_type": "display_data",
          "data": {
            "text/html": [
              "<table class=\"dataframe\">\n",
              "<caption>A matrix: 25 × 5 of type dbl</caption>\n",
              "<tbody>\n",
              "\t<tr><td>1</td><td>55</td><td>50</td><td>0</td><td>2.1</td></tr>\n",
              "\t<tr><td>1</td><td>46</td><td>24</td><td>1</td><td>2.8</td></tr>\n",
              "\t<tr><td>1</td><td>30</td><td>46</td><td>1</td><td>3.3</td></tr>\n",
              "\t<tr><td>1</td><td>35</td><td>48</td><td>1</td><td>4.5</td></tr>\n",
              "\t<tr><td>1</td><td>59</td><td>58</td><td>0</td><td>2.0</td></tr>\n",
              "\t<tr><td>1</td><td>61</td><td>60</td><td>0</td><td>5.1</td></tr>\n",
              "\t<tr><td>1</td><td>74</td><td>65</td><td>1</td><td>5.5</td></tr>\n",
              "\t<tr><td>1</td><td>38</td><td>42</td><td>1</td><td>3.2</td></tr>\n",
              "\t<tr><td>1</td><td>27</td><td>42</td><td>0</td><td>3.1</td></tr>\n",
              "\t<tr><td>1</td><td>51</td><td>50</td><td>1</td><td>2.4</td></tr>\n",
              "\t<tr><td>1</td><td>53</td><td>38</td><td>1</td><td>2.2</td></tr>\n",
              "\t<tr><td>1</td><td>41</td><td>30</td><td>0</td><td>2.1</td></tr>\n",
              "\t<tr><td>1</td><td>37</td><td>31</td><td>0</td><td>1.9</td></tr>\n",
              "\t<tr><td>1</td><td>24</td><td>34</td><td>0</td><td>3.1</td></tr>\n",
              "\t<tr><td>1</td><td>42</td><td>30</td><td>0</td><td>3.0</td></tr>\n",
              "\t<tr><td>1</td><td>50</td><td>48</td><td>1</td><td>4.2</td></tr>\n",
              "\t<tr><td>1</td><td>58</td><td>61</td><td>1</td><td>4.6</td></tr>\n",
              "\t<tr><td>1</td><td>60</td><td>71</td><td>1</td><td>5.3</td></tr>\n",
              "\t<tr><td>1</td><td>62</td><td>62</td><td>0</td><td>7.2</td></tr>\n",
              "\t<tr><td>1</td><td>68</td><td>38</td><td>0</td><td>7.8</td></tr>\n",
              "\t<tr><td>1</td><td>70</td><td>41</td><td>1</td><td>7.0</td></tr>\n",
              "\t<tr><td>1</td><td>79</td><td>66</td><td>1</td><td>6.2</td></tr>\n",
              "\t<tr><td>1</td><td>63</td><td>31</td><td>1</td><td>4.1</td></tr>\n",
              "\t<tr><td>1</td><td>39</td><td>42</td><td>0</td><td>3.5</td></tr>\n",
              "\t<tr><td>1</td><td>49</td><td>40</td><td>1</td><td>2.1</td></tr>\n",
              "</tbody>\n",
              "</table>\n"
            ],
            "text/markdown": "\nA matrix: 25 × 5 of type dbl\n\n| 1 | 55 | 50 | 0 | 2.1 |\n| 1 | 46 | 24 | 1 | 2.8 |\n| 1 | 30 | 46 | 1 | 3.3 |\n| 1 | 35 | 48 | 1 | 4.5 |\n| 1 | 59 | 58 | 0 | 2.0 |\n| 1 | 61 | 60 | 0 | 5.1 |\n| 1 | 74 | 65 | 1 | 5.5 |\n| 1 | 38 | 42 | 1 | 3.2 |\n| 1 | 27 | 42 | 0 | 3.1 |\n| 1 | 51 | 50 | 1 | 2.4 |\n| 1 | 53 | 38 | 1 | 2.2 |\n| 1 | 41 | 30 | 0 | 2.1 |\n| 1 | 37 | 31 | 0 | 1.9 |\n| 1 | 24 | 34 | 0 | 3.1 |\n| 1 | 42 | 30 | 0 | 3.0 |\n| 1 | 50 | 48 | 1 | 4.2 |\n| 1 | 58 | 61 | 1 | 4.6 |\n| 1 | 60 | 71 | 1 | 5.3 |\n| 1 | 62 | 62 | 0 | 7.2 |\n| 1 | 68 | 38 | 0 | 7.8 |\n| 1 | 70 | 41 | 1 | 7.0 |\n| 1 | 79 | 66 | 1 | 6.2 |\n| 1 | 63 | 31 | 1 | 4.1 |\n| 1 | 39 | 42 | 0 | 3.5 |\n| 1 | 49 | 40 | 1 | 2.1 |\n\n",
            "text/latex": "A matrix: 25 × 5 of type dbl\n\\begin{tabular}{lllll}\n\t 1 & 55 & 50 & 0 & 2.1\\\\\n\t 1 & 46 & 24 & 1 & 2.8\\\\\n\t 1 & 30 & 46 & 1 & 3.3\\\\\n\t 1 & 35 & 48 & 1 & 4.5\\\\\n\t 1 & 59 & 58 & 0 & 2.0\\\\\n\t 1 & 61 & 60 & 0 & 5.1\\\\\n\t 1 & 74 & 65 & 1 & 5.5\\\\\n\t 1 & 38 & 42 & 1 & 3.2\\\\\n\t 1 & 27 & 42 & 0 & 3.1\\\\\n\t 1 & 51 & 50 & 1 & 2.4\\\\\n\t 1 & 53 & 38 & 1 & 2.2\\\\\n\t 1 & 41 & 30 & 0 & 2.1\\\\\n\t 1 & 37 & 31 & 0 & 1.9\\\\\n\t 1 & 24 & 34 & 0 & 3.1\\\\\n\t 1 & 42 & 30 & 0 & 3.0\\\\\n\t 1 & 50 & 48 & 1 & 4.2\\\\\n\t 1 & 58 & 61 & 1 & 4.6\\\\\n\t 1 & 60 & 71 & 1 & 5.3\\\\\n\t 1 & 62 & 62 & 0 & 7.2\\\\\n\t 1 & 68 & 38 & 0 & 7.8\\\\\n\t 1 & 70 & 41 & 1 & 7.0\\\\\n\t 1 & 79 & 66 & 1 & 6.2\\\\\n\t 1 & 63 & 31 & 1 & 4.1\\\\\n\t 1 & 39 & 42 & 0 & 3.5\\\\\n\t 1 & 49 & 40 & 1 & 2.1\\\\\n\\end{tabular}\n",
            "text/plain": [
              "      [,1] [,2] [,3] [,4] [,5]\n",
              " [1,] 1    55   50   0    2.1 \n",
              " [2,] 1    46   24   1    2.8 \n",
              " [3,] 1    30   46   1    3.3 \n",
              " [4,] 1    35   48   1    4.5 \n",
              " [5,] 1    59   58   0    2.0 \n",
              " [6,] 1    61   60   0    5.1 \n",
              " [7,] 1    74   65   1    5.5 \n",
              " [8,] 1    38   42   1    3.2 \n",
              " [9,] 1    27   42   0    3.1 \n",
              "[10,] 1    51   50   1    2.4 \n",
              "[11,] 1    53   38   1    2.2 \n",
              "[12,] 1    41   30   0    2.1 \n",
              "[13,] 1    37   31   0    1.9 \n",
              "[14,] 1    24   34   0    3.1 \n",
              "[15,] 1    42   30   0    3.0 \n",
              "[16,] 1    50   48   1    4.2 \n",
              "[17,] 1    58   61   1    4.6 \n",
              "[18,] 1    60   71   1    5.3 \n",
              "[19,] 1    62   62   0    7.2 \n",
              "[20,] 1    68   38   0    7.8 \n",
              "[21,] 1    70   41   1    7.0 \n",
              "[22,] 1    79   66   1    6.2 \n",
              "[23,] 1    63   31   1    4.1 \n",
              "[24,] 1    39   42   0    3.5 \n",
              "[25,] 1    49   40   1    2.1 "
            ]
          },
          "metadata": {}
        }
      ]
    },
    {
      "cell_type": "markdown",
      "source": [
        "Calculando agora $X^TX$"
      ],
      "metadata": {
        "id": "3bxFwc9LzWAD"
      }
    },
    {
      "cell_type": "code",
      "source": [
        "XtX <- t(X)%*%X\n",
        "XtX"
      ],
      "metadata": {
        "colab": {
          "base_uri": "https://localhost:8080/",
          "height": 191
        },
        "id": "KHjXT5JLzYSH",
        "outputId": "fe5285d4-cb3b-43db-8244-7773faa78868"
      },
      "execution_count": 4,
      "outputs": [
        {
          "output_type": "display_data",
          "data": {
            "text/html": [
              "<table class=\"dataframe\">\n",
              "<caption>A matrix: 5 × 5 of type dbl</caption>\n",
              "<tbody>\n",
              "\t<tr><td>  25.0</td><td> 1271.0</td><td> 1148.0</td><td> 14.0</td><td>  98.30</td></tr>\n",
              "\t<tr><td>1271.0</td><td>69881.0</td><td>60814.0</td><td>756.0</td><td>5387.10</td></tr>\n",
              "\t<tr><td>1148.0</td><td>60814.0</td><td>56790.0</td><td>671.0</td><td>4760.60</td></tr>\n",
              "\t<tr><td>  14.0</td><td>  756.0</td><td>  671.0</td><td> 14.0</td><td>  57.40</td></tr>\n",
              "\t<tr><td>  98.3</td><td> 5387.1</td><td> 4760.6</td><td> 57.4</td><td> 461.21</td></tr>\n",
              "</tbody>\n",
              "</table>\n"
            ],
            "text/markdown": "\nA matrix: 5 × 5 of type dbl\n\n|   25.0 |  1271.0 |  1148.0 |  14.0 |   98.30 |\n| 1271.0 | 69881.0 | 60814.0 | 756.0 | 5387.10 |\n| 1148.0 | 60814.0 | 56790.0 | 671.0 | 4760.60 |\n|   14.0 |   756.0 |   671.0 |  14.0 |   57.40 |\n|   98.3 |  5387.1 |  4760.6 |  57.4 |  461.21 |\n\n",
            "text/latex": "A matrix: 5 × 5 of type dbl\n\\begin{tabular}{lllll}\n\t   25.0 &  1271.0 &  1148.0 &  14.0 &   98.30\\\\\n\t 1271.0 & 69881.0 & 60814.0 & 756.0 & 5387.10\\\\\n\t 1148.0 & 60814.0 & 56790.0 & 671.0 & 4760.60\\\\\n\t   14.0 &   756.0 &   671.0 &  14.0 &   57.40\\\\\n\t   98.3 &  5387.1 &  4760.6 &  57.4 &  461.21\\\\\n\\end{tabular}\n",
            "text/plain": [
              "     [,1]   [,2]    [,3]    [,4]  [,5]   \n",
              "[1,]   25.0  1271.0  1148.0  14.0   98.30\n",
              "[2,] 1271.0 69881.0 60814.0 756.0 5387.10\n",
              "[3,] 1148.0 60814.0 56790.0 671.0 4760.60\n",
              "[4,]   14.0   756.0   671.0  14.0   57.40\n",
              "[5,]   98.3  5387.1  4760.6  57.4  461.21"
            ]
          },
          "metadata": {}
        }
      ]
    },
    {
      "cell_type": "markdown",
      "source": [
        "Calculando a inversa $(X^TX)^{-1}$"
      ],
      "metadata": {
        "id": "_dD04DUJzaAi"
      }
    },
    {
      "cell_type": "code",
      "source": [
        "in_XtX <- solve(XtX)\n",
        "in_XtX"
      ],
      "metadata": {
        "colab": {
          "base_uri": "https://localhost:8080/",
          "height": 191
        },
        "id": "yahtlazszbcN",
        "outputId": "df636447-9139-4f64-8fe1-7d70a57dcbd8"
      },
      "execution_count": 5,
      "outputs": [
        {
          "output_type": "display_data",
          "data": {
            "text/html": [
              "<table class=\"dataframe\">\n",
              "<caption>A matrix: 5 × 5 of type dbl</caption>\n",
              "<tbody>\n",
              "\t<tr><td> 0.703140769</td><td>-0.0064927611</td><td>-0.0077141793</td><td>-0.0117614119</td><td> 0.0070632525</td></tr>\n",
              "\t<tr><td>-0.006492761</td><td> 0.0003684202</td><td>-0.0001219604</td><td>-0.0015277456</td><td>-0.0014704381</td></tr>\n",
              "\t<tr><td>-0.007714179</td><td>-0.0001219604</td><td> 0.0003537337</td><td>-0.0005422198</td><td>-0.0005150462</td></tr>\n",
              "\t<tr><td>-0.011761412</td><td>-0.0015277456</td><td>-0.0005422198</td><td> 0.1741529911</td><td> 0.0042739211</td></tr>\n",
              "\t<tr><td> 0.007063252</td><td>-0.0014704381</td><td>-0.0005150462</td><td> 0.0042739211</td><td> 0.0226224174</td></tr>\n",
              "</tbody>\n",
              "</table>\n"
            ],
            "text/markdown": "\nA matrix: 5 × 5 of type dbl\n\n|  0.703140769 | -0.0064927611 | -0.0077141793 | -0.0117614119 |  0.0070632525 |\n| -0.006492761 |  0.0003684202 | -0.0001219604 | -0.0015277456 | -0.0014704381 |\n| -0.007714179 | -0.0001219604 |  0.0003537337 | -0.0005422198 | -0.0005150462 |\n| -0.011761412 | -0.0015277456 | -0.0005422198 |  0.1741529911 |  0.0042739211 |\n|  0.007063252 | -0.0014704381 | -0.0005150462 |  0.0042739211 |  0.0226224174 |\n\n",
            "text/latex": "A matrix: 5 × 5 of type dbl\n\\begin{tabular}{lllll}\n\t  0.703140769 & -0.0064927611 & -0.0077141793 & -0.0117614119 &  0.0070632525\\\\\n\t -0.006492761 &  0.0003684202 & -0.0001219604 & -0.0015277456 & -0.0014704381\\\\\n\t -0.007714179 & -0.0001219604 &  0.0003537337 & -0.0005422198 & -0.0005150462\\\\\n\t -0.011761412 & -0.0015277456 & -0.0005422198 &  0.1741529911 &  0.0042739211\\\\\n\t  0.007063252 & -0.0014704381 & -0.0005150462 &  0.0042739211 &  0.0226224174\\\\\n\\end{tabular}\n",
            "text/plain": [
              "     [,1]         [,2]          [,3]          [,4]          [,5]         \n",
              "[1,]  0.703140769 -0.0064927611 -0.0077141793 -0.0117614119  0.0070632525\n",
              "[2,] -0.006492761  0.0003684202 -0.0001219604 -0.0015277456 -0.0014704381\n",
              "[3,] -0.007714179 -0.0001219604  0.0003537337 -0.0005422198 -0.0005150462\n",
              "[4,] -0.011761412 -0.0015277456 -0.0005422198  0.1741529911  0.0042739211\n",
              "[5,]  0.007063252 -0.0014704381 -0.0005150462  0.0042739211  0.0226224174"
            ]
          },
          "metadata": {}
        }
      ]
    },
    {
      "cell_type": "markdown",
      "source": [
        "Multiplicando agora $X^T$ por $Y$ temos:"
      ],
      "metadata": {
        "id": "v9-Iev6VzdaN"
      }
    },
    {
      "cell_type": "code",
      "source": [
        "Y <- matrix(0, nrow = 25, ncol = 1)\n",
        "for (i in 1:25){\n",
        "  Y[i,1] = N[i,5]\n",
        "}\n",
        "\n",
        "Xty <- t(X)%*%Y\n",
        "Xty"
      ],
      "metadata": {
        "colab": {
          "base_uri": "https://localhost:8080/",
          "height": 226
        },
        "id": "_MJ8xk0bzewE",
        "outputId": "d913b949-5fe5-4c26-cfa9-aea5c43b3c4b"
      },
      "execution_count": 6,
      "outputs": [
        {
          "output_type": "display_data",
          "data": {
            "text/html": [
              "<table class=\"dataframe\">\n",
              "<caption>A matrix: 5 × 1 of type dbl</caption>\n",
              "<tbody>\n",
              "\t<tr><td> 1638.0</td></tr>\n",
              "\t<tr><td>76487.0</td></tr>\n",
              "\t<tr><td>70426.0</td></tr>\n",
              "\t<tr><td>  857.0</td></tr>\n",
              "\t<tr><td> 5959.4</td></tr>\n",
              "</tbody>\n",
              "</table>\n"
            ],
            "text/markdown": "\nA matrix: 5 × 1 of type dbl\n\n|  1638.0 |\n| 76487.0 |\n| 70426.0 |\n|   857.0 |\n|  5959.4 |\n\n",
            "text/latex": "A matrix: 5 × 1 of type dbl\n\\begin{tabular}{l}\n\t  1638.0\\\\\n\t 76487.0\\\\\n\t 70426.0\\\\\n\t   857.0\\\\\n\t  5959.4\\\\\n\\end{tabular}\n",
            "text/plain": [
              "     [,1]   \n",
              "[1,]  1638.0\n",
              "[2,] 76487.0\n",
              "[3,] 70426.0\n",
              "[4,]   857.0\n",
              "[5,]  5959.4"
            ]
          },
          "metadata": {}
        }
      ]
    },
    {
      "cell_type": "markdown",
      "source": [
        "Deste modo, podemos finalmente calcular $\\hat{\\theta}$ como sendo $\\hat{\\theta} = (X^TX)^{-1}X^TY$."
      ],
      "metadata": {
        "id": "c64rSNu9zg2F"
      }
    },
    {
      "cell_type": "code",
      "source": [
        "theta <- in_XtX %*% Xty\n",
        "theta"
      ],
      "metadata": {
        "colab": {
          "base_uri": "https://localhost:8080/",
          "height": 209
        },
        "id": "juXUX2dAzjDw",
        "outputId": "c74cdfde-baed-4c30-cdb3-6de04e10492a"
      },
      "execution_count": 7,
      "outputs": [
        {
          "output_type": "display_data",
          "data": {
            "text/html": [
              "<table class=\"dataframe\">\n",
              "<caption>A matrix: 5 × 1 of type dbl</caption>\n",
              "<tbody>\n",
              "\t<tr><td>143.8671879</td></tr>\n",
              "\t<tr><td> -1.1171771</td></tr>\n",
              "\t<tr><td> -0.5862110</td></tr>\n",
              "\t<tr><td>  0.4148747</td></tr>\n",
              "\t<tr><td>  1.3063510</td></tr>\n",
              "</tbody>\n",
              "</table>\n"
            ],
            "text/markdown": "\nA matrix: 5 × 1 of type dbl\n\n| 143.8671879 |\n|  -1.1171771 |\n|  -0.5862110 |\n|   0.4148747 |\n|   1.3063510 |\n\n",
            "text/latex": "A matrix: 5 × 1 of type dbl\n\\begin{tabular}{l}\n\t 143.8671879\\\\\n\t  -1.1171771\\\\\n\t  -0.5862110\\\\\n\t   0.4148747\\\\\n\t   1.3063510\\\\\n\\end{tabular}\n",
            "text/plain": [
              "     [,1]       \n",
              "[1,] 143.8671879\n",
              "[2,]  -1.1171771\n",
              "[3,]  -0.5862110\n",
              "[4,]   0.4148747\n",
              "[5,]   1.3063510"
            ]
          },
          "metadata": {}
        }
      ]
    },
    {
      "cell_type": "markdown",
      "source": [
        "## Propriedades Estatística dos Estimadores por Mínimos Quadrados\n",
        "\n",
        "O modelo ajustado é dado em sua forma matricila por $\\hat{Y} = X\\hat{\\theta}$. Com isso podemos realizar uma análise dos desvios padrão dos residuos $\\varepsilon$, sendo estes dados como $\\varepsilon = y  - \\hat{y}$.\n",
        "\n",
        "Para calcular o desvio padrão dos residuos, utilizamos a fórmula\n",
        "\n",
        "$$\n",
        "\\hat{\\sigma}^2 = \\frac{\\sum^{n}_{i=1}\\varepsilon^2_i}{n - p} = \\frac{SS_E}{n - p}\n",
        "$$\n",
        "\n",
        "Sendo que $n$ é o número de observaçoes e $p$ é o número de parâmetros em nosso modelo.\n",
        "\n",
        "Para determinarmos o desvio padrão dos residuos dos estimadores $\\hat{\\theta}_0, \\hat{\\theta}_1, ... \\hat{\\theta}_{p-1}$, precisamos calcular primeiro a matrix $C$:\n",
        "\n",
        "$$\n",
        "C = (X^TX)^{-1} = \\begin{bmatrix}C_{00} & C_{01} & \\cdots & C_{0(p-1)}\\\\C_{10} & C_{11} & \\cdots & C_{1(p-1)}\\\\\n",
        "\\vdots & \\vdots & \\ddots & \\vdots\\\\ C_{(p-1)0} & C_{(p-1)1} & \\cdots & C_{(p-1)(p-1)}\\end{bmatrix}\n",
        "$$\n",
        "\n",
        "Podemos obter a matriz de covariancia $Cov(\\hat{\\theta})$ multiplicando a matriz $C$ pela estimativa do desvio padrão dos residuos $\\hat{\\sigma}^2$:\n",
        "\n",
        "$$\n",
        "Cov(\\hat{\\theta}) = \\hat{\\sigma}^2(X^TX)^{-1} = \\hat{\\sigma}^2C\n",
        "$$\n",
        "\n",
        "O *desvio padrão dos estimadores por minimos quadrados* do estimador $\\hat{\\theta}_j$ denotado por $Se(\\hat{\\theta}_j)$, com $j = 0, 1, ..., p -1$ é determinado por tomarmos a raiz quadrada do produto de $\\hat{\\sigma}^2$ e o *j-ésimo elemento da diagonal pricipla de* $C$.\n",
        "\n",
        "$$\n",
        "Se(\\hat{\\theta}_j) = \\sqrt{\\hat{\\sigma}^2C_{jj}}\n",
        "$$\n",
        "\n",
        "### Voltando ao Exemplo dos Pacientes\n",
        "\n",
        "Note que já temos calculado o valor da matriz $C$, sendo esta `in_XtX` . Assim vamos calcular as predições feitas pelo modelo fazendo $\\hat{Y} = X\\hat{\\theta}$."
      ],
      "metadata": {
        "id": "tqB30iAWzkfb"
      }
    },
    {
      "cell_type": "code",
      "source": [
        "Y_chap = X%*%theta\n",
        "Y_chap"
      ],
      "metadata": {
        "colab": {
          "base_uri": "https://localhost:8080/",
          "height": 853
        },
        "id": "K45Y0rq_zrMB",
        "outputId": "5cf7b8f1-f8bd-4a0a-9299-9d909169e3dc"
      },
      "execution_count": 8,
      "outputs": [
        {
          "output_type": "display_data",
          "data": {
            "text/html": [
              "<table class=\"dataframe\">\n",
              "<caption>A matrix: 25 × 1 of type dbl</caption>\n",
              "<tbody>\n",
              "\t<tr><td> 55.85524</td></tr>\n",
              "\t<tr><td> 82.48064</td></tr>\n",
              "\t<tr><td> 88.11200</td></tr>\n",
              "\t<tr><td> 82.92132</td></tr>\n",
              "\t<tr><td> 46.56621</td></tr>\n",
              "\t<tr><td> 47.20912</td></tr>\n",
              "\t<tr><td> 30.69218</td></tr>\n",
              "\t<tr><td> 81.38880</td></tr>\n",
              "\t<tr><td> 93.13223</td></tr>\n",
              "\t<tr><td> 61.13073</td></tr>\n",
              "\t<tr><td> 65.66963</td></tr>\n",
              "\t<tr><td> 83.21994</td></tr>\n",
              "\t<tr><td> 86.84116</td></tr>\n",
              "\t<tr><td>101.17345</td></tr>\n",
              "\t<tr><td> 83.27848</td></tr>\n",
              "\t<tr><td> 65.77176</td></tr>\n",
              "\t<tr><td> 49.73614</td></tr>\n",
              "\t<tr><td> 42.55412</td></tr>\n",
              "\t<tr><td> 47.66286</td></tr>\n",
              "\t<tr><td> 55.81267</td></tr>\n",
              "\t<tr><td> 51.18948</td></tr>\n",
              "\t<tr><td> 25.43453</td></tr>\n",
              "\t<tr><td> 61.08341</td></tr>\n",
              "\t<tr><td> 80.24865</td></tr>\n",
              "\t<tr><td> 68.83528</td></tr>\n",
              "</tbody>\n",
              "</table>\n"
            ],
            "text/markdown": "\nA matrix: 25 × 1 of type dbl\n\n|  55.85524 |\n|  82.48064 |\n|  88.11200 |\n|  82.92132 |\n|  46.56621 |\n|  47.20912 |\n|  30.69218 |\n|  81.38880 |\n|  93.13223 |\n|  61.13073 |\n|  65.66963 |\n|  83.21994 |\n|  86.84116 |\n| 101.17345 |\n|  83.27848 |\n|  65.77176 |\n|  49.73614 |\n|  42.55412 |\n|  47.66286 |\n|  55.81267 |\n|  51.18948 |\n|  25.43453 |\n|  61.08341 |\n|  80.24865 |\n|  68.83528 |\n\n",
            "text/latex": "A matrix: 25 × 1 of type dbl\n\\begin{tabular}{l}\n\t  55.85524\\\\\n\t  82.48064\\\\\n\t  88.11200\\\\\n\t  82.92132\\\\\n\t  46.56621\\\\\n\t  47.20912\\\\\n\t  30.69218\\\\\n\t  81.38880\\\\\n\t  93.13223\\\\\n\t  61.13073\\\\\n\t  65.66963\\\\\n\t  83.21994\\\\\n\t  86.84116\\\\\n\t 101.17345\\\\\n\t  83.27848\\\\\n\t  65.77176\\\\\n\t  49.73614\\\\\n\t  42.55412\\\\\n\t  47.66286\\\\\n\t  55.81267\\\\\n\t  51.18948\\\\\n\t  25.43453\\\\\n\t  61.08341\\\\\n\t  80.24865\\\\\n\t  68.83528\\\\\n\\end{tabular}\n",
            "text/plain": [
              "      [,1]     \n",
              " [1,]  55.85524\n",
              " [2,]  82.48064\n",
              " [3,]  88.11200\n",
              " [4,]  82.92132\n",
              " [5,]  46.56621\n",
              " [6,]  47.20912\n",
              " [7,]  30.69218\n",
              " [8,]  81.38880\n",
              " [9,]  93.13223\n",
              "[10,]  61.13073\n",
              "[11,]  65.66963\n",
              "[12,]  83.21994\n",
              "[13,]  86.84116\n",
              "[14,] 101.17345\n",
              "[15,]  83.27848\n",
              "[16,]  65.77176\n",
              "[17,]  49.73614\n",
              "[18,]  42.55412\n",
              "[19,]  47.66286\n",
              "[20,]  55.81267\n",
              "[21,]  51.18948\n",
              "[22,]  25.43453\n",
              "[23,]  61.08341\n",
              "[24,]  80.24865\n",
              "[25,]  68.83528"
            ]
          },
          "metadata": {}
        }
      ]
    },
    {
      "cell_type": "markdown",
      "source": [
        "Com isso calculamos os residuos fazendo $\\varepsilon = Y - \\hat{Y}$."
      ],
      "metadata": {
        "id": "T_2q3N_GzuDQ"
      }
    },
    {
      "cell_type": "code",
      "source": [
        "res = Y - Y_chap\n",
        "res"
      ],
      "metadata": {
        "colab": {
          "base_uri": "https://localhost:8080/",
          "height": 836
        },
        "id": "CMV84o5nzvkj",
        "outputId": "2cad3667-c157-41b5-e115-386e274b4e35"
      },
      "execution_count": 9,
      "outputs": [
        {
          "output_type": "display_data",
          "data": {
            "text/html": [
              "<table class=\"dataframe\">\n",
              "<caption>A matrix: 25 × 1 of type dbl</caption>\n",
              "<tbody>\n",
              "\t<tr><td> 12.1447623</td></tr>\n",
              "\t<tr><td> -5.4806372</td></tr>\n",
              "\t<tr><td>  7.8879960</td></tr>\n",
              "\t<tr><td> -2.9213180</td></tr>\n",
              "\t<tr><td> -3.5662065</td></tr>\n",
              "\t<tr><td> -3.2091186</td></tr>\n",
              "\t<tr><td> -4.6921771</td></tr>\n",
              "\t<tr><td>  6.6112036</td></tr>\n",
              "\t<tr><td>-18.1322342</td></tr>\n",
              "\t<tr><td> -4.1307260</td></tr>\n",
              "\t<tr><td> -9.6696335</td></tr>\n",
              "\t<tr><td>  4.7800638</td></tr>\n",
              "\t<tr><td>  1.1588368</td></tr>\n",
              "\t<tr><td>  0.8265468</td></tr>\n",
              "\t<tr><td>  4.7215250</td></tr>\n",
              "\t<tr><td>  4.2282432</td></tr>\n",
              "\t<tr><td>  2.2638620</td></tr>\n",
              "\t<tr><td>  0.4458802</td></tr>\n",
              "\t<tr><td> -1.6628567</td></tr>\n",
              "\t<tr><td>  0.1873314</td></tr>\n",
              "\t<tr><td>  7.8105246</td></tr>\n",
              "\t<tr><td>  0.5654735</td></tr>\n",
              "\t<tr><td> -9.0834067</td></tr>\n",
              "\t<tr><td>  2.7513501</td></tr>\n",
              "\t<tr><td>  6.1647154</td></tr>\n",
              "</tbody>\n",
              "</table>\n"
            ],
            "text/markdown": "\nA matrix: 25 × 1 of type dbl\n\n|  12.1447623 |\n|  -5.4806372 |\n|   7.8879960 |\n|  -2.9213180 |\n|  -3.5662065 |\n|  -3.2091186 |\n|  -4.6921771 |\n|   6.6112036 |\n| -18.1322342 |\n|  -4.1307260 |\n|  -9.6696335 |\n|   4.7800638 |\n|   1.1588368 |\n|   0.8265468 |\n|   4.7215250 |\n|   4.2282432 |\n|   2.2638620 |\n|   0.4458802 |\n|  -1.6628567 |\n|   0.1873314 |\n|   7.8105246 |\n|   0.5654735 |\n|  -9.0834067 |\n|   2.7513501 |\n|   6.1647154 |\n\n",
            "text/latex": "A matrix: 25 × 1 of type dbl\n\\begin{tabular}{l}\n\t  12.1447623\\\\\n\t  -5.4806372\\\\\n\t   7.8879960\\\\\n\t  -2.9213180\\\\\n\t  -3.5662065\\\\\n\t  -3.2091186\\\\\n\t  -4.6921771\\\\\n\t   6.6112036\\\\\n\t -18.1322342\\\\\n\t  -4.1307260\\\\\n\t  -9.6696335\\\\\n\t   4.7800638\\\\\n\t   1.1588368\\\\\n\t   0.8265468\\\\\n\t   4.7215250\\\\\n\t   4.2282432\\\\\n\t   2.2638620\\\\\n\t   0.4458802\\\\\n\t  -1.6628567\\\\\n\t   0.1873314\\\\\n\t   7.8105246\\\\\n\t   0.5654735\\\\\n\t  -9.0834067\\\\\n\t   2.7513501\\\\\n\t   6.1647154\\\\\n\\end{tabular}\n",
            "text/plain": [
              "      [,1]       \n",
              " [1,]  12.1447623\n",
              " [2,]  -5.4806372\n",
              " [3,]   7.8879960\n",
              " [4,]  -2.9213180\n",
              " [5,]  -3.5662065\n",
              " [6,]  -3.2091186\n",
              " [7,]  -4.6921771\n",
              " [8,]   6.6112036\n",
              " [9,] -18.1322342\n",
              "[10,]  -4.1307260\n",
              "[11,]  -9.6696335\n",
              "[12,]   4.7800638\n",
              "[13,]   1.1588368\n",
              "[14,]   0.8265468\n",
              "[15,]   4.7215250\n",
              "[16,]   4.2282432\n",
              "[17,]   2.2638620\n",
              "[18,]   0.4458802\n",
              "[19,]  -1.6628567\n",
              "[20,]   0.1873314\n",
              "[21,]   7.8105246\n",
              "[22,]   0.5654735\n",
              "[23,]  -9.0834067\n",
              "[24,]   2.7513501\n",
              "[25,]   6.1647154"
            ]
          },
          "metadata": {}
        }
      ]
    },
    {
      "cell_type": "markdown",
      "source": [
        "Logo, agora podemos calcular $SS_E$ (soma dos quadros dos residuos), bem como dividir isso por $n - p$ (número de observações menos o número de parâmetros), sendo que neste exemplo $n = 25$ e $p = 5$ ."
      ],
      "metadata": {
        "id": "dsFkfCJQzwHO"
      }
    },
    {
      "cell_type": "code",
      "source": [
        "quad = res^2\n",
        "SSe = sum(quad)\n",
        "sigma_chap = sqrt(SSe/(25 - 5))\n",
        "sigma_chap"
      ],
      "metadata": {
        "colab": {
          "base_uri": "https://localhost:8080/",
          "height": 34
        },
        "id": "Fc_7HmHtzxwp",
        "outputId": "5ecd173f-9565-4566-f14c-c63de37d0581"
      },
      "execution_count": 10,
      "outputs": [
        {
          "output_type": "display_data",
          "data": {
            "text/html": [
              "7.20744969141101"
            ],
            "text/markdown": "7.20744969141101",
            "text/latex": "7.20744969141101",
            "text/plain": [
              "[1] 7.20745"
            ]
          },
          "metadata": {}
        }
      ]
    },
    {
      "cell_type": "markdown",
      "source": [
        "Deste modo podemos construir um vetor cujo cada entrada correspode ao desvio padrão dos nossos estimadores $\\hat{\\theta}_k$, com $k = 0, 1, ..., 4$."
      ],
      "metadata": {
        "id": "TW7k738ezztQ"
      }
    },
    {
      "cell_type": "code",
      "source": [
        "Se_theta = matrix(0, nrow = 5, ncol = 1)\n",
        "for (i in 1:5){\n",
        "  Se_theta[i,1] = sqrt(sigma_chap^2*in_XtX[i,i])\n",
        "}"
      ],
      "metadata": {
        "id": "R6MhTRCwz2JT"
      },
      "execution_count": 11,
      "outputs": []
    },
    {
      "cell_type": "markdown",
      "source": [
        "Logo temos o vetor $\\hat{\\theta}$ com os parâmetros do nosso modelo conseguidos por meio do método dos minimos quadrados:"
      ],
      "metadata": {
        "id": "drSU0MeJz5ab"
      }
    },
    {
      "cell_type": "code",
      "source": [
        "theta"
      ],
      "metadata": {
        "colab": {
          "base_uri": "https://localhost:8080/",
          "height": 209
        },
        "id": "DWhAHyo4z6XY",
        "outputId": "76c098a5-99d3-4d76-f36d-83f6daca5124"
      },
      "execution_count": 12,
      "outputs": [
        {
          "output_type": "display_data",
          "data": {
            "text/html": [
              "<table class=\"dataframe\">\n",
              "<caption>A matrix: 5 × 1 of type dbl</caption>\n",
              "<tbody>\n",
              "\t<tr><td>143.8671879</td></tr>\n",
              "\t<tr><td> -1.1171771</td></tr>\n",
              "\t<tr><td> -0.5862110</td></tr>\n",
              "\t<tr><td>  0.4148747</td></tr>\n",
              "\t<tr><td>  1.3063510</td></tr>\n",
              "</tbody>\n",
              "</table>\n"
            ],
            "text/markdown": "\nA matrix: 5 × 1 of type dbl\n\n| 143.8671879 |\n|  -1.1171771 |\n|  -0.5862110 |\n|   0.4148747 |\n|   1.3063510 |\n\n",
            "text/latex": "A matrix: 5 × 1 of type dbl\n\\begin{tabular}{l}\n\t 143.8671879\\\\\n\t  -1.1171771\\\\\n\t  -0.5862110\\\\\n\t   0.4148747\\\\\n\t   1.3063510\\\\\n\\end{tabular}\n",
            "text/plain": [
              "     [,1]       \n",
              "[1,] 143.8671879\n",
              "[2,]  -1.1171771\n",
              "[3,]  -0.5862110\n",
              "[4,]   0.4148747\n",
              "[5,]   1.3063510"
            ]
          },
          "metadata": {}
        }
      ]
    },
    {
      "cell_type": "markdown",
      "source": [
        "E o vetor $Se(\\hat{\\theta})$ com os respectivos desvios padrôes de cada parâmetros:"
      ],
      "metadata": {
        "id": "V0AHHauwz74_"
      }
    },
    {
      "cell_type": "code",
      "source": [
        "Se_theta"
      ],
      "metadata": {
        "colab": {
          "base_uri": "https://localhost:8080/",
          "height": 209
        },
        "id": "1IbUj3_pz9l9",
        "outputId": "855ae6c4-f61e-4d8f-fdce-550c66c7bff7"
      },
      "execution_count": 13,
      "outputs": [
        {
          "output_type": "display_data",
          "data": {
            "text/html": [
              "<table class=\"dataframe\">\n",
              "<caption>A matrix: 5 × 1 of type dbl</caption>\n",
              "<tbody>\n",
              "\t<tr><td>6.0436981</td></tr>\n",
              "\t<tr><td>0.1383418</td></tr>\n",
              "\t<tr><td>0.1355563</td></tr>\n",
              "\t<tr><td>3.0077871</td></tr>\n",
              "\t<tr><td>1.0840545</td></tr>\n",
              "</tbody>\n",
              "</table>\n"
            ],
            "text/markdown": "\nA matrix: 5 × 1 of type dbl\n\n| 6.0436981 |\n| 0.1383418 |\n| 0.1355563 |\n| 3.0077871 |\n| 1.0840545 |\n\n",
            "text/latex": "A matrix: 5 × 1 of type dbl\n\\begin{tabular}{l}\n\t 6.0436981\\\\\n\t 0.1383418\\\\\n\t 0.1355563\\\\\n\t 3.0077871\\\\\n\t 1.0840545\\\\\n\\end{tabular}\n",
            "text/plain": [
              "     [,1]     \n",
              "[1,] 6.0436981\n",
              "[2,] 0.1383418\n",
              "[3,] 0.1355563\n",
              "[4,] 3.0077871\n",
              "[5,] 1.0840545"
            ]
          },
          "metadata": {}
        }
      ]
    },
    {
      "cell_type": "markdown",
      "source": [
        "## Testes de Hipoteses no Modelo de Regressão Multipla\n",
        "\n",
        "Existem dois testes de hipóteses que podemos realizar em um modelo linear de regressão múltipla, sendo estes:\n",
        "\n",
        "1.  **Teste da Significancia do Modelo:** Testa se o modelo como um todo é apropriado para descrever os dados em estudo, verificadno assim se existe alguma correlação nos dados que pode sex explicada por meio de um modelo linear.\n",
        "2.  **Teste Individual dos Coeficientes de Regressão**: Verifica se os coeficientes são significaticvos de forma individual. Caso não sejam, podemos remover estes do modelo.\n",
        "\n",
        "Vamos utilizar a análise de variância ANOVA par5a avlaiarmos a variabilidade dos dados, para tal vamos dividir a variabilidade total dos dados $SS_T = \\sum^{n}_{i=1}(y_i - \\overline{y})^2$ em duas partes:\n",
        "\n",
        "-   $SS_R = \\sum^{n}_{i=1}(\\hat{y}_i - \\overline{y})^2$ *soma dos quadrados da regressão*, com $p-1$ graus de liberdade. É o quadrado da diferença dos dados preditos pelo modelo para com a média.\n",
        "\n",
        "-   $SS_E = \\sum^{n}_{i=1}(y_i - \\hat{y}_i)^2$ a *soma dos quadrados dos residuos*, calcula a soma dos quadrados dos dados observados para com as prediçoes feitas pelo modelo, possuindo $n-p$ graus de liberdade.\n",
        "\n",
        "Sendo que temos $SS_T = SS_R + SS_E$. Para o modelo de regressão ser significativo, precisamos que a maior parte da variabilidade dos dados seja explicada pelo modelo, caso contrario, podem haver mais fatores que influenciam nos dados e que não estamos levando em conta em nosso modelo.\n",
        "\n",
        "Assim, para um modelo significativo, precisamos que $\\frac{SS_R}{SS_T}$ seja *consideravelmente grande*, no geral nos normalizamos tanto $SS_R$ quanto $SS_E$ pelos seus graus de liberdade, de modo que:\n",
        "\n",
        "$$\n",
        "\\frac{MS_R}{MS_E} = \\frac{\\frac{SS_R}{p-1}}{\\frac{SS_E}{n-p}} = \\frac{SS_R(n-p)}{SS_E(p-1)}\n",
        "$$\n",
        "\n",
        "Sendo $MS_R$ e $MS_E$ as respectivas normalizações pelos graus de liberdade de $SS_R$ e $SS_E$ . Lembrando que:\n",
        "\n",
        "-   $n$ : Número de observações.\n",
        "\n",
        "-   $p$ : Quantidade de parâmetros do modelo.\n",
        "\n",
        "Note agora que $SS_T = \\sum^{n}_{i=1}(y_i - \\overline{y})^2 = s^2(n-1)$, sendo $s^2$ a variancia amostral dos dados.\n",
        "\n",
        "## 1. Teste da Significancia do Modelo\n",
        "\n",
        "Realizaremos o teste com base nas seguintes hipóteses:\n",
        "\n",
        "-   $H_0$ : $\\theta = 0$\n",
        "\n",
        "-   $H_1$ : $\\theta_j \\neq 0$, para pelo menos um $j$\n",
        "\n",
        "A hipótese $H_0$ implica o *modelo nulo*, onde o vetor dos parâ,etros é o vetor nulo.\n",
        "\n",
        "Co mo estamos calculandop a divisão de duas grandezas ao quadrado, isto é, $\\frac{MS_R}{MS_E}$, vamios realizar o teste de hipóteses com, base na distribuição $F$.\n",
        "\n",
        "Assim:\n",
        "\n",
        "$$\n",
        "f_0 =\\frac{MS_R}{MS_E} = \\frac{SS_R(n-p)}{SS_E(p-1)}\n",
        "$$\n",
        "\n",
        "e vamos verificar a condição $f_0 > f_{\\alpha,(p-1),(n-p)}$, que caso verdadeira, rejeitamos $H_0$ e aceitamos $H_1$ a um cero nível de significancia.\n",
        "\n",
        "**(Duvida: Eu vi no video que em boa parte de experimento reais esse texte de hipóteses não é muito útil, por que?)**\n",
        "\n",
        "### Criando a tabela ANOVA\n",
        "\n",
        "Para calcular os respectivos parâmetros para o teste de hipóteses, como estamos lidando com vários parâmetros, utilizamos uma tabela *ANOVA* da análise das variâncias da regressão e do residuo.\n",
        "\n",
        "| Fonte da Variação | Soma dos Quadrados | Graus de Liberdade | Médias dos Quadrados | $F_0$ |\n",
        "|---------------|---------------|---------------|---------------|---------------|\n",
        "| **Regressão** | $SS_R$ | $p-1$ | $MS_R = SS_R/(p-1)$ | $MS_R/MS_E$ |\n",
        "| **Erro (Residuo)** | $SS_E$ | $n-p$ | $MS_E = SS_E/(n-p)$ |  |\n",
        "| **Total** | $SS_T$ | $n-1$ |  |  |\n",
        "\n",
        ": tabela ANOVA\n",
        "\n",
        "### Realizando o teste\n",
        "\n",
        "Primeiro, vamos calcular os respectivos valores presentes na tabela da *ANOVA*."
      ],
      "metadata": {
        "id": "Q2-8do7n0ABm"
      }
    },
    {
      "cell_type": "code",
      "source": [
        "SSE_vec = matrix(0, nrow = 25, ncol = 1)\n",
        "for (i in 1:25){\n",
        "  SSE_vec[i,1] = (res[i,1])^2\n",
        "}\n",
        "SSE = sum(SSE_vec)\n",
        "\n",
        "SST = (sd(Y))^2*24\n",
        "\n",
        "SSR = SST - SSE\n",
        "\n",
        "MSR = SSR/4\n",
        "MSE = SSE/(25-5)\n",
        "\n",
        "f0 = MSR/MSE\n",
        "f0"
      ],
      "metadata": {
        "colab": {
          "base_uri": "https://localhost:8080/",
          "height": 34
        },
        "id": "NBfWMxzV0HO7",
        "outputId": "d6d21643-b762-470b-a088-08eada164773"
      },
      "execution_count": 14,
      "outputs": [
        {
          "output_type": "display_data",
          "data": {
            "text/html": [
              "46.8709998245631"
            ],
            "text/markdown": "46.8709998245631",
            "text/latex": "46.8709998245631",
            "text/plain": [
              "[1] 46.871"
            ]
          },
          "metadata": {}
        }
      ]
    },
    {
      "cell_type": "markdown",
      "source": [
        "Feito isso, podemos calcular nosso *p-valor* segundo a distribuição $F$, calculando assim a probabilidade de $f_0 > f_{\\alpha,(p-1),(n-p)}$."
      ],
      "metadata": {
        "id": "ifQs5wVB0KJn"
      }
    },
    {
      "cell_type": "code",
      "source": [
        "p_valor = pf(f0, 4, 20, lower.tail = FALSE)\n",
        "p_valor"
      ],
      "metadata": {
        "colab": {
          "base_uri": "https://localhost:8080/",
          "height": 34
        },
        "id": "n7oF9Jum0L2T",
        "outputId": "b3647d75-bf57-4aa0-b013-fef7f9fd409e"
      },
      "execution_count": 15,
      "outputs": [
        {
          "output_type": "display_data",
          "data": {
            "text/html": [
              "6.95052394661381e-10"
            ],
            "text/markdown": "6.95052394661381e-10",
            "text/latex": "6.95052394661381e-10",
            "text/plain": [
              "[1] 6.950524e-10"
            ]
          },
          "metadata": {}
        }
      ]
    },
    {
      "cell_type": "markdown",
      "source": [
        "Sendo assim, considerando um nivel de significância de **95%**, temos $\\alpha = 0,05$. Como $p \\approx  6.95 *10^{-10} << 0,05$ , rejeitamos $H_0$ e aceitamos $H1$ .\n",
        "\n",
        "Portanto, $\\theta_j \\neq 0$, para pelo menos um $j$ , a um nivel de significância de **95%**.\n",
        "\n",
        "## 2. Teste Individual dos Coeficientes de Regressão\n",
        "\n",
        "Agora as hipóteses que vamos considerar no teste são:\n",
        "\n",
        "-   $H_0$ : $\\theta_j = \\theta_{j0}$\n",
        "\n",
        "-   $H_1$ : $\\theta_j \\neq \\theta_{j0}$ , sendo tipicamente $\\theta_{j0} = 0$\n",
        "\n",
        "A estatística do teste, caso $\\theta_{j0}$ agora é dada por:\n",
        "\n",
        "$$\n",
        "T_{j0} = \\frac{\\hat{\\theta}_j - \\theta_{j0}}{\\sqrt{\\sigma^2C_{jj}}} = \\frac{\\hat{\\theta}_j}{se(\\hat{\\theta}_j)}\n",
        "$$\n",
        "\n",
        "em suma, estamos verificando se algum dos coeficeintes de nosso vetor dos parâmetros $\\hat{\\theta}$ é estatisticamente iguala a $0$.\n",
        "\n",
        "Sendo este um teste de calda dupla, vamos verificar se $|t_0|>t_{(\\alpha/2), (n-p)}$, caso isso ocorra, rejeitamos $H_0$ e aceitamos $H_1$.\n",
        "\n",
        "### Realizando o teste\n",
        "\n",
        "Calculando primeiro o vetor $T_{j0}$ utilizando a fórmula ascima:"
      ],
      "metadata": {
        "id": "_gfg3huA0PuF"
      }
    },
    {
      "cell_type": "code",
      "source": [
        "T0 = matrix(0, nrow = 5, ncol = 1)\n",
        "for (i in 1:5){\n",
        "  T0[i,1] = theta[i,1]/Se_theta[i,1]\n",
        "}\n",
        "T0"
      ],
      "metadata": {
        "colab": {
          "base_uri": "https://localhost:8080/",
          "height": 209
        },
        "id": "gfjBshfd0Q9k",
        "outputId": "702b94b2-9556-4a1e-800e-feb291b11fe3"
      },
      "execution_count": 16,
      "outputs": [
        {
          "output_type": "display_data",
          "data": {
            "text/html": [
              "<table class=\"dataframe\">\n",
              "<caption>A matrix: 5 × 1 of type dbl</caption>\n",
              "<tbody>\n",
              "\t<tr><td>23.8044962</td></tr>\n",
              "\t<tr><td>-8.0754857</td></tr>\n",
              "\t<tr><td>-4.3244820</td></tr>\n",
              "\t<tr><td> 0.1379335</td></tr>\n",
              "\t<tr><td> 1.2050603</td></tr>\n",
              "</tbody>\n",
              "</table>\n"
            ],
            "text/markdown": "\nA matrix: 5 × 1 of type dbl\n\n| 23.8044962 |\n| -8.0754857 |\n| -4.3244820 |\n|  0.1379335 |\n|  1.2050603 |\n\n",
            "text/latex": "A matrix: 5 × 1 of type dbl\n\\begin{tabular}{l}\n\t 23.8044962\\\\\n\t -8.0754857\\\\\n\t -4.3244820\\\\\n\t  0.1379335\\\\\n\t  1.2050603\\\\\n\\end{tabular}\n",
            "text/plain": [
              "     [,1]      \n",
              "[1,] 23.8044962\n",
              "[2,] -8.0754857\n",
              "[3,] -4.3244820\n",
              "[4,]  0.1379335\n",
              "[5,]  1.2050603"
            ]
          },
          "metadata": {}
        }
      ]
    },
    {
      "cell_type": "markdown",
      "source": [
        "Agora vgamos realizar o teste de calda dupla para cada entrada do vetor $T_0$ utilizando a distribuição *t-student*, obtendo assim o vetor $P_0$ dos *p-valores*."
      ],
      "metadata": {
        "id": "0bd3GYx-0UZR"
      }
    },
    {
      "cell_type": "code",
      "source": [
        "P0 = matrix(0, nrow = 5, ncol = 1)\n",
        "for (i in 1:5){\n",
        "  P0[i,1] = 2*(pt(abs(T0[i,1]), 20, lower.tail = FALSE))\n",
        "}\n",
        "P0"
      ],
      "metadata": {
        "colab": {
          "base_uri": "https://localhost:8080/",
          "height": 209
        },
        "id": "DdbFPLci0VdH",
        "outputId": "3d2ee229-e72d-4be6-b427-8cfe2b140ba5"
      },
      "execution_count": 17,
      "outputs": [
        {
          "output_type": "display_data",
          "data": {
            "text/html": [
              "<table class=\"dataframe\">\n",
              "<caption>A matrix: 5 × 1 of type dbl</caption>\n",
              "<tbody>\n",
              "\t<tr><td>3.795908e-16</td></tr>\n",
              "\t<tr><td>1.007923e-07</td></tr>\n",
              "\t<tr><td>3.294732e-04</td></tr>\n",
              "\t<tr><td>8.916722e-01</td></tr>\n",
              "\t<tr><td>2.422458e-01</td></tr>\n",
              "</tbody>\n",
              "</table>\n"
            ],
            "text/markdown": "\nA matrix: 5 × 1 of type dbl\n\n| 3.795908e-16 |\n| 1.007923e-07 |\n| 3.294732e-04 |\n| 8.916722e-01 |\n| 2.422458e-01 |\n\n",
            "text/latex": "A matrix: 5 × 1 of type dbl\n\\begin{tabular}{l}\n\t 3.795908e-16\\\\\n\t 1.007923e-07\\\\\n\t 3.294732e-04\\\\\n\t 8.916722e-01\\\\\n\t 2.422458e-01\\\\\n\\end{tabular}\n",
            "text/plain": [
              "     [,1]        \n",
              "[1,] 3.795908e-16\n",
              "[2,] 1.007923e-07\n",
              "[3,] 3.294732e-04\n",
              "[4,] 8.916722e-01\n",
              "[5,] 2.422458e-01"
            ]
          },
          "metadata": {}
        }
      ]
    },
    {
      "cell_type": "markdown",
      "source": [
        "Assumindo agora um nivel de significância de **95%**, obtendo assim $\\alpha = 0,05$, vamos ver quais *p-valores* são maiores que $\\alpha$."
      ],
      "metadata": {
        "id": "ekv13Uw60XLG"
      }
    },
    {
      "cell_type": "code",
      "source": [
        "verificador = matrix(0, nrow = 5, ncol = 1)\n",
        "for (i in 1:5){\n",
        "  if (P0[i,1] > 0.05){\n",
        "    verificador[i,1] = 0\n",
        "  } else {\n",
        "    verificador[i,1] = 1\n",
        "  }\n",
        "}\n",
        "verificador"
      ],
      "metadata": {
        "colab": {
          "base_uri": "https://localhost:8080/",
          "height": 261
        },
        "id": "RROj_xq30ZWP",
        "outputId": "599f3df7-b306-4329-beec-e74149b53101"
      },
      "execution_count": 18,
      "outputs": [
        {
          "output_type": "display_data",
          "data": {
            "text/html": [
              "<table class=\"dataframe\">\n",
              "<caption>A matrix: 5 × 1 of type dbl</caption>\n",
              "<tbody>\n",
              "\t<tr><td>1</td></tr>\n",
              "\t<tr><td>1</td></tr>\n",
              "\t<tr><td>1</td></tr>\n",
              "\t<tr><td>0</td></tr>\n",
              "\t<tr><td>0</td></tr>\n",
              "</tbody>\n",
              "</table>\n"
            ],
            "text/markdown": "\nA matrix: 5 × 1 of type dbl\n\n| 1 |\n| 1 |\n| 1 |\n| 0 |\n| 0 |\n\n",
            "text/latex": "A matrix: 5 × 1 of type dbl\n\\begin{tabular}{l}\n\t 1\\\\\n\t 1\\\\\n\t 1\\\\\n\t 0\\\\\n\t 0\\\\\n\\end{tabular}\n",
            "text/plain": [
              "     [,1]\n",
              "[1,] 1   \n",
              "[2,] 1   \n",
              "[3,] 1   \n",
              "[4,] 0   \n",
              "[5,] 0   "
            ]
          },
          "metadata": {}
        }
      ]
    },
    {
      "cell_type": "markdown",
      "source": [
        "Note que para os parâmetros $\\hat{\\theta_3}$ e $\\hat{\\theta}_4$ não rejeitamos $H_0$, logo estes são estatísticamentes iguais a zero, para um nível de significância de **95%**, podendo assim serem removidos do modelo.\n",
        "\n",
        "Interpretando os dados, temos que os únicos parâmetros que possuem alguma influencia na satisfação dos clientes, são aqueles correspondentes a $\\hat{\\theta_1}$ e a $\\hat{\\theta_2}$, isto é, a **Idade do paciente** e a **gravidade da sua condição médica.**"
      ],
      "metadata": {
        "id": "HtcD24kh0a3X"
      }
    }
  ]
}